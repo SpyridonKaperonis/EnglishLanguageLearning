{
 "cells": [
  {
   "cell_type": "code",
   "execution_count": 39,
   "id": "7144211b",
   "metadata": {},
   "outputs": [],
   "source": [
    "import numpy as np\n",
    "from sklearn.model_selection import KFold\n",
    "from sklearn.model_selection import train_test_split\n",
    "from sklearn.feature_extraction.text import CountVectorizer, TfidfVectorizer, TfidfTransformer\n",
    "from sklearn import datasets\n",
    "from sklearn.svm import LinearSVC\n",
    "import pandas as pd\n",
    "from nltk.tokenize import word_tokenize\n",
    "from nltk.corpus import stopwords\n",
    "from nltk.stem import WordNetLemmatizer\n",
    "import string\n",
    "from sklearn.linear_model import LinearRegression\n",
    "from sklearn.svm import SVC"
   ]
  },
  {
   "cell_type": "markdown",
   "id": "7bbad45b",
   "metadata": {},
   "source": [
    "1. Data visualization\n",
    "2. Data pre-processing\n",
    "3. Model"
   ]
  },
  {
   "cell_type": "code",
   "execution_count": 2,
   "id": "f50daf16",
   "metadata": {},
   "outputs": [],
   "source": [
    "train_data_path = ('./feedback-prize-english-language-learning/train.csv')"
   ]
  },
  {
   "cell_type": "code",
   "execution_count": 3,
   "id": "721bbf35",
   "metadata": {},
   "outputs": [],
   "source": [
    "def load_data(path):\n",
    "    corpus = pd.read_csv(path)\n",
    "    return corpus"
   ]
  },
  {
   "cell_type": "markdown",
   "id": "4620e3b2",
   "metadata": {},
   "source": [
    "## Data visualization"
   ]
  },
  {
   "cell_type": "code",
   "execution_count": 4,
   "id": "235e7a78",
   "metadata": {},
   "outputs": [],
   "source": [
    "df = load_data(train_data_path)"
   ]
  },
  {
   "cell_type": "code",
   "execution_count": 5,
   "id": "133f5c69",
   "metadata": {},
   "outputs": [
    {
     "data": {
      "text/plain": [
       "\"Dear friend\\n\\nmy name is STUDENT_NAME\\n\\nam coming from LOCATION_NAME.\\n\\ni speak LOCATION_NAME and LANGUAGE_NAME.\\n\\ni am a student to SCHOOL_NAME to 8grade.\\n\\nThe community is very important. Because he teacher people a good idea.\\n\\nex: my idea is to respect the teacher and other people.\\n\\nI don't no speak English good.\\n\\nBecause to my contry no English.\\n\\ni want to be a good student in English and other .\\n\\nThank's\""
      ]
     },
     "execution_count": 5,
     "metadata": {},
     "output_type": "execute_result"
    }
   ],
   "source": [
    "df['full_text'][2352]"
   ]
  },
  {
   "cell_type": "code",
   "execution_count": null,
   "id": "eaaaf4ec",
   "metadata": {},
   "outputs": [],
   "source": []
  },
  {
   "cell_type": "code",
   "execution_count": null,
   "id": "64fe27e4",
   "metadata": {},
   "outputs": [],
   "source": []
  },
  {
   "cell_type": "code",
   "execution_count": null,
   "id": "a6d3b835",
   "metadata": {},
   "outputs": [],
   "source": []
  },
  {
   "cell_type": "code",
   "execution_count": null,
   "id": "0dc7dac5",
   "metadata": {},
   "outputs": [],
   "source": []
  },
  {
   "cell_type": "markdown",
   "id": "d2eab72c",
   "metadata": {},
   "source": [
    "### Data pre processing"
   ]
  },
  {
   "cell_type": "code",
   "execution_count": 6,
   "id": "75586674",
   "metadata": {},
   "outputs": [],
   "source": [
    "def tokenize_data(data):\n",
    "    tokens = word_tokenize(data)\n",
    "    return tokens"
   ]
  },
  {
   "cell_type": "code",
   "execution_count": 7,
   "id": "8c54dc8d",
   "metadata": {},
   "outputs": [],
   "source": [
    "def lowercase_data(data):\n",
    "    lowercase = np.char.lower(data)\n",
    "    return lowercase"
   ]
  },
  {
   "cell_type": "code",
   "execution_count": 8,
   "id": "4eb47387",
   "metadata": {},
   "outputs": [],
   "source": [
    "def remove_punctuation(data):\n",
    "    symbols = \"!\\\"#$%&()*+-.,/:;<=>?@[\\]^_`{|}~\\n\"\n",
    "    no_punctuation = data\n",
    "    for i in symbols:\n",
    "        no_punctuation = np.char.replace(no_punctuation, i, ' ')\n",
    "        no_punctuation = np.char.replace(no_punctuation, \"'\", \"\")        \n",
    "        \n",
    "    return no_punctuation"
   ]
  },
  {
   "cell_type": "code",
   "execution_count": 9,
   "id": "2240bc7a",
   "metadata": {},
   "outputs": [],
   "source": [
    "def numbers_to_words(data):\n",
    "    newData = []\n",
    "    for i in data:\n",
    "        if i != str(i):\n",
    "            num = num2words(i)\n",
    "            newData.append(num)\n",
    "        else:\n",
    "            newData.append(i)\n",
    "    return newData"
   ]
  },
  {
   "cell_type": "code",
   "execution_count": 10,
   "id": "82fa7ab5",
   "metadata": {},
   "outputs": [],
   "source": [
    "def remove_stop_words(data):\n",
    "    stop_words = set(stopwords.words('english'))\n",
    "    words = [w for w in data if not w in stop_words]\n",
    "    return words"
   ]
  },
  {
   "cell_type": "code",
   "execution_count": 11,
   "id": "fdc4ea02",
   "metadata": {},
   "outputs": [],
   "source": [
    "def lemmatize_words(data):\n",
    "    a = []\n",
    "    lemmatizer = WordNetLemmatizer()\n",
    "    for i in data:\n",
    "        lemmatized_word = lemmatizer.lemmatize(i)\n",
    "        a.append(lemmatized_word)\n",
    "    return a"
   ]
  },
  {
   "cell_type": "code",
   "execution_count": 12,
   "id": "996b7366",
   "metadata": {},
   "outputs": [],
   "source": [
    "def data_cleanning(data):\n",
    "    df = data\n",
    "    # Loop through data and clean it.\n",
    "    for i in data['full_text']:\n",
    "       \n",
    "        ndata = tokenize_data(i)\n",
    "        ndata = remove_punctuation(ndata)\n",
    "        ndata = lowercase_data(ndata)\n",
    "        ndata = numbers_to_words(ndata)\n",
    "        ndata = remove_stop_words(ndata)\n",
    "        ndata = lemmatize_words(ndata)\n",
    "        ndata = numbers_to_words(ndata)\n",
    "        ndata = ' '.join(ndata)\n",
    "        ndata = remove_punctuation(ndata)\n",
    "        \n",
    "        df = df.replace(i, ndata)\n",
    "\n",
    "    return pd.DataFrame(df)"
   ]
  },
  {
   "cell_type": "code",
   "execution_count": 13,
   "id": "53525f34",
   "metadata": {},
   "outputs": [],
   "source": [
    "def split_test_validation_byID(data):    \n",
    "    train_d, val_d = train_test_split(data, test_size=0.2, random_state=1)\n",
    "    train_d = pd.DataFrame(train_d)\n",
    "    val_d = pd.DataFrame(val_d)\n",
    "    return train_d, val_d"
   ]
  },
  {
   "cell_type": "code",
   "execution_count": 63,
   "id": "bbc3805f",
   "metadata": {},
   "outputs": [],
   "source": [
    "def tf_idf(data):\n",
    "    \n",
    "    vectorizer = TfidfVectorizer(max_features=2)\n",
    "    tfidf = vectorizer.fit_transform(data)\n",
    "    words = vectorizer.get_feature_names_out()\n",
    "    \n",
    "    return tfidf, words"
   ]
  },
  {
   "cell_type": "code",
   "execution_count": 59,
   "id": "f6eaf52d",
   "metadata": {},
   "outputs": [],
   "source": [
    "def modelfor_Vocabulary_pipeline(data):\n",
    "    dataf = load_data(data)\n",
    "    \n",
    "\n",
    "    # x_train, x_val, y_train, y_val = split_test_validation(train_dataPath)\n",
    "    train_data, validation_data = split_test_validation_byID(dataf)\n",
    "\n",
    "    \n",
    "    df = data_cleanning(train_data[:10])\n",
    "    x, words = tf_idf(df['full_text'])\n",
    "   \n",
    "    y = train_data['vocabulary']\n",
    "    \n",
    "#     svm_clf = LinearSVC()\n",
    "#     svm_clf.fit(x,Y)\n",
    "    return x"
   ]
  },
  {
   "cell_type": "code",
   "execution_count": 60,
   "id": "00d9c022",
   "metadata": {},
   "outputs": [],
   "source": [
    "x = modelfor_Vocabulary_pipeline(train_data_path)"
   ]
  },
  {
   "cell_type": "code",
   "execution_count": 62,
   "id": "ee107e6a",
   "metadata": {},
   "outputs": [
    {
     "name": "stdout",
     "output_type": "stream",
     "text": [
      "  (0, 0)\t0.5189579373112586\n",
      "  (0, 1)\t0.8547997773172638\n",
      "  (1, 0)\t1.0\n",
      "  (2, 0)\t1.0\n",
      "  (3, 0)\t1.0\n",
      "  (4, 1)\t1.0\n",
      "  (5, 0)\t0.15005905719608004\n",
      "  (5, 1)\t0.9886770349074685\n",
      "  (6, 1)\t1.0\n",
      "  (7, 0)\t0.8068927113964852\n",
      "  (7, 1)\t0.5906980212386261\n",
      "  (8, 0)\t0.7281817737506422\n",
      "  (8, 1)\t0.6853840561155247\n",
      "  (9, 0)\t0.15005905719608004\n",
      "  (9, 1)\t0.9886770349074685\n"
     ]
    }
   ],
   "source": [
    "print(x)"
   ]
  },
  {
   "cell_type": "code",
   "execution_count": null,
   "id": "1ab2c526",
   "metadata": {},
   "outputs": [],
   "source": []
  }
 ],
 "metadata": {
  "kernelspec": {
   "display_name": "Python 3 (ipykernel)",
   "language": "python",
   "name": "python3"
  },
  "language_info": {
   "codemirror_mode": {
    "name": "ipython",
    "version": 3
   },
   "file_extension": ".py",
   "mimetype": "text/x-python",
   "name": "python",
   "nbconvert_exporter": "python",
   "pygments_lexer": "ipython3",
   "version": "3.9.12"
  }
 },
 "nbformat": 4,
 "nbformat_minor": 5
}
