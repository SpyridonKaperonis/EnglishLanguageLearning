{
 "cells": [
  {
   "cell_type": "code",
   "execution_count": 76,
   "id": "7144211b",
   "metadata": {},
   "outputs": [],
   "source": [
    "import numpy as np\n",
    "from sklearn.model_selection import train_test_split\n",
    "from sklearn.feature_extraction.text import CountVectorizer, TfidfVectorizer, TfidfTransformer\n",
    "import pandas as pd\n",
    "import nltk\n",
    "from nltk.tokenize import word_tokenize\n",
    "from nltk.corpus import stopwords\n",
    "from nltk.stem import WordNetLemmatizer\n",
    "from sklearn.pipeline import Pipeline\n",
    "import string\n",
    "import matplotlib.pyplot as plt\n",
    "import seaborn as sns"
   ]
  },
  {
   "cell_type": "markdown",
   "id": "7bbad45b",
   "metadata": {},
   "source": [
    "1. Data visualization\n",
    "2. Data pre-processing\n",
    "3. Model"
   ]
  },
  {
   "cell_type": "code",
   "execution_count": 2,
   "id": "f50daf16",
   "metadata": {},
   "outputs": [],
   "source": [
    "train_data_path = ('./feedback-prize-english-language-learning/train.csv')\n",
    "test_data_path = ('./feedback-prize-english-language-learning/test.csv')"
   ]
  },
  {
   "cell_type": "code",
   "execution_count": 3,
   "id": "721bbf35",
   "metadata": {},
   "outputs": [],
   "source": [
    "def load_data(path):\n",
    "    corpus = pd.read_csv(path)\n",
    "    return corpus"
   ]
  },
  {
   "cell_type": "markdown",
   "id": "4620e3b2",
   "metadata": {},
   "source": [
    "## Data exploration"
   ]
  },
  {
   "cell_type": "code",
   "execution_count": 4,
   "id": "235e7a78",
   "metadata": {},
   "outputs": [],
   "source": [
    "df = load_data(train_data_path)"
   ]
  },
  {
   "cell_type": "code",
   "execution_count": 5,
   "id": "133f5c69",
   "metadata": {},
   "outputs": [
    {
     "data": {
      "text/html": [
       "<div>\n",
       "<style scoped>\n",
       "    .dataframe tbody tr th:only-of-type {\n",
       "        vertical-align: middle;\n",
       "    }\n",
       "\n",
       "    .dataframe tbody tr th {\n",
       "        vertical-align: top;\n",
       "    }\n",
       "\n",
       "    .dataframe thead th {\n",
       "        text-align: right;\n",
       "    }\n",
       "</style>\n",
       "<table border=\"1\" class=\"dataframe\">\n",
       "  <thead>\n",
       "    <tr style=\"text-align: right;\">\n",
       "      <th></th>\n",
       "      <th>text_id</th>\n",
       "      <th>full_text</th>\n",
       "      <th>cohesion</th>\n",
       "      <th>syntax</th>\n",
       "      <th>vocabulary</th>\n",
       "      <th>phraseology</th>\n",
       "      <th>grammar</th>\n",
       "      <th>conventions</th>\n",
       "    </tr>\n",
       "  </thead>\n",
       "  <tbody>\n",
       "    <tr>\n",
       "      <th>0</th>\n",
       "      <td>0016926B079C</td>\n",
       "      <td>I think that students would benefit from learn...</td>\n",
       "      <td>3.5</td>\n",
       "      <td>3.5</td>\n",
       "      <td>3.0</td>\n",
       "      <td>3.0</td>\n",
       "      <td>4.0</td>\n",
       "      <td>3.0</td>\n",
       "    </tr>\n",
       "    <tr>\n",
       "      <th>1</th>\n",
       "      <td>0022683E9EA5</td>\n",
       "      <td>When a problem is a change you have to let it ...</td>\n",
       "      <td>2.5</td>\n",
       "      <td>2.5</td>\n",
       "      <td>3.0</td>\n",
       "      <td>2.0</td>\n",
       "      <td>2.0</td>\n",
       "      <td>2.5</td>\n",
       "    </tr>\n",
       "    <tr>\n",
       "      <th>2</th>\n",
       "      <td>00299B378633</td>\n",
       "      <td>Dear, Principal\\n\\nIf u change the school poli...</td>\n",
       "      <td>3.0</td>\n",
       "      <td>3.5</td>\n",
       "      <td>3.0</td>\n",
       "      <td>3.0</td>\n",
       "      <td>3.0</td>\n",
       "      <td>2.5</td>\n",
       "    </tr>\n",
       "    <tr>\n",
       "      <th>3</th>\n",
       "      <td>003885A45F42</td>\n",
       "      <td>The best time in life is when you become yours...</td>\n",
       "      <td>4.5</td>\n",
       "      <td>4.5</td>\n",
       "      <td>4.5</td>\n",
       "      <td>4.5</td>\n",
       "      <td>4.0</td>\n",
       "      <td>5.0</td>\n",
       "    </tr>\n",
       "    <tr>\n",
       "      <th>4</th>\n",
       "      <td>0049B1DF5CCC</td>\n",
       "      <td>Small act of kindness can impact in other peop...</td>\n",
       "      <td>2.5</td>\n",
       "      <td>3.0</td>\n",
       "      <td>3.0</td>\n",
       "      <td>3.0</td>\n",
       "      <td>2.5</td>\n",
       "      <td>2.5</td>\n",
       "    </tr>\n",
       "    <tr>\n",
       "      <th>5</th>\n",
       "      <td>004AC288D833</td>\n",
       "      <td>Dear Principal,\\r\\n\\r\\nOur school should have ...</td>\n",
       "      <td>3.5</td>\n",
       "      <td>4.0</td>\n",
       "      <td>4.0</td>\n",
       "      <td>3.5</td>\n",
       "      <td>3.5</td>\n",
       "      <td>4.0</td>\n",
       "    </tr>\n",
       "    <tr>\n",
       "      <th>6</th>\n",
       "      <td>005661280443</td>\n",
       "      <td>Imagine if you could prove other people that y...</td>\n",
       "      <td>3.5</td>\n",
       "      <td>4.0</td>\n",
       "      <td>3.5</td>\n",
       "      <td>3.5</td>\n",
       "      <td>4.0</td>\n",
       "      <td>4.0</td>\n",
       "    </tr>\n",
       "    <tr>\n",
       "      <th>7</th>\n",
       "      <td>008DDDDD8E8D</td>\n",
       "      <td>I think it's a good idea for the estudnets to ...</td>\n",
       "      <td>2.5</td>\n",
       "      <td>2.5</td>\n",
       "      <td>2.5</td>\n",
       "      <td>2.5</td>\n",
       "      <td>2.5</td>\n",
       "      <td>2.0</td>\n",
       "    </tr>\n",
       "    <tr>\n",
       "      <th>8</th>\n",
       "      <td>009BCCC61C2A</td>\n",
       "      <td>positive attitude is the key to success. I agr...</td>\n",
       "      <td>3.0</td>\n",
       "      <td>3.0</td>\n",
       "      <td>3.5</td>\n",
       "      <td>3.5</td>\n",
       "      <td>3.0</td>\n",
       "      <td>3.0</td>\n",
       "    </tr>\n",
       "    <tr>\n",
       "      <th>9</th>\n",
       "      <td>009F4E9310CB</td>\n",
       "      <td>Asking more than one person for and advice hel...</td>\n",
       "      <td>3.0</td>\n",
       "      <td>3.0</td>\n",
       "      <td>3.5</td>\n",
       "      <td>2.5</td>\n",
       "      <td>3.0</td>\n",
       "      <td>2.5</td>\n",
       "    </tr>\n",
       "  </tbody>\n",
       "</table>\n",
       "</div>"
      ],
      "text/plain": [
       "        text_id                                          full_text  cohesion  \\\n",
       "0  0016926B079C  I think that students would benefit from learn...       3.5   \n",
       "1  0022683E9EA5  When a problem is a change you have to let it ...       2.5   \n",
       "2  00299B378633  Dear, Principal\\n\\nIf u change the school poli...       3.0   \n",
       "3  003885A45F42  The best time in life is when you become yours...       4.5   \n",
       "4  0049B1DF5CCC  Small act of kindness can impact in other peop...       2.5   \n",
       "5  004AC288D833  Dear Principal,\\r\\n\\r\\nOur school should have ...       3.5   \n",
       "6  005661280443  Imagine if you could prove other people that y...       3.5   \n",
       "7  008DDDDD8E8D  I think it's a good idea for the estudnets to ...       2.5   \n",
       "8  009BCCC61C2A  positive attitude is the key to success. I agr...       3.0   \n",
       "9  009F4E9310CB  Asking more than one person for and advice hel...       3.0   \n",
       "\n",
       "   syntax  vocabulary  phraseology  grammar  conventions  \n",
       "0     3.5         3.0          3.0      4.0          3.0  \n",
       "1     2.5         3.0          2.0      2.0          2.5  \n",
       "2     3.5         3.0          3.0      3.0          2.5  \n",
       "3     4.5         4.5          4.5      4.0          5.0  \n",
       "4     3.0         3.0          3.0      2.5          2.5  \n",
       "5     4.0         4.0          3.5      3.5          4.0  \n",
       "6     4.0         3.5          3.5      4.0          4.0  \n",
       "7     2.5         2.5          2.5      2.5          2.0  \n",
       "8     3.0         3.5          3.5      3.0          3.0  \n",
       "9     3.0         3.5          2.5      3.0          2.5  "
      ]
     },
     "execution_count": 5,
     "metadata": {},
     "output_type": "execute_result"
    }
   ],
   "source": [
    "df.head(10)"
   ]
  },
  {
   "cell_type": "code",
   "execution_count": 6,
   "id": "460064e1",
   "metadata": {
    "scrolled": true
   },
   "outputs": [
    {
     "data": {
      "text/html": [
       "<div>\n",
       "<style scoped>\n",
       "    .dataframe tbody tr th:only-of-type {\n",
       "        vertical-align: middle;\n",
       "    }\n",
       "\n",
       "    .dataframe tbody tr th {\n",
       "        vertical-align: top;\n",
       "    }\n",
       "\n",
       "    .dataframe thead th {\n",
       "        text-align: right;\n",
       "    }\n",
       "</style>\n",
       "<table border=\"1\" class=\"dataframe\">\n",
       "  <thead>\n",
       "    <tr style=\"text-align: right;\">\n",
       "      <th></th>\n",
       "      <th>count</th>\n",
       "      <th>mean</th>\n",
       "      <th>std</th>\n",
       "      <th>min</th>\n",
       "      <th>25%</th>\n",
       "      <th>50%</th>\n",
       "      <th>75%</th>\n",
       "      <th>max</th>\n",
       "    </tr>\n",
       "  </thead>\n",
       "  <tbody>\n",
       "    <tr>\n",
       "      <th>cohesion</th>\n",
       "      <td>3911.0</td>\n",
       "      <td>3.127077</td>\n",
       "      <td>0.662542</td>\n",
       "      <td>1.0</td>\n",
       "      <td>2.5</td>\n",
       "      <td>3.0</td>\n",
       "      <td>3.5</td>\n",
       "      <td>5.0</td>\n",
       "    </tr>\n",
       "    <tr>\n",
       "      <th>syntax</th>\n",
       "      <td>3911.0</td>\n",
       "      <td>3.028254</td>\n",
       "      <td>0.644399</td>\n",
       "      <td>1.0</td>\n",
       "      <td>2.5</td>\n",
       "      <td>3.0</td>\n",
       "      <td>3.5</td>\n",
       "      <td>5.0</td>\n",
       "    </tr>\n",
       "    <tr>\n",
       "      <th>vocabulary</th>\n",
       "      <td>3911.0</td>\n",
       "      <td>3.235745</td>\n",
       "      <td>0.583148</td>\n",
       "      <td>1.0</td>\n",
       "      <td>3.0</td>\n",
       "      <td>3.0</td>\n",
       "      <td>3.5</td>\n",
       "      <td>5.0</td>\n",
       "    </tr>\n",
       "    <tr>\n",
       "      <th>phraseology</th>\n",
       "      <td>3911.0</td>\n",
       "      <td>3.116850</td>\n",
       "      <td>0.655997</td>\n",
       "      <td>1.0</td>\n",
       "      <td>2.5</td>\n",
       "      <td>3.0</td>\n",
       "      <td>3.5</td>\n",
       "      <td>5.0</td>\n",
       "    </tr>\n",
       "    <tr>\n",
       "      <th>grammar</th>\n",
       "      <td>3911.0</td>\n",
       "      <td>3.032856</td>\n",
       "      <td>0.699841</td>\n",
       "      <td>1.0</td>\n",
       "      <td>2.5</td>\n",
       "      <td>3.0</td>\n",
       "      <td>3.5</td>\n",
       "      <td>5.0</td>\n",
       "    </tr>\n",
       "    <tr>\n",
       "      <th>conventions</th>\n",
       "      <td>3911.0</td>\n",
       "      <td>3.081053</td>\n",
       "      <td>0.671450</td>\n",
       "      <td>1.0</td>\n",
       "      <td>2.5</td>\n",
       "      <td>3.0</td>\n",
       "      <td>3.5</td>\n",
       "      <td>5.0</td>\n",
       "    </tr>\n",
       "  </tbody>\n",
       "</table>\n",
       "</div>"
      ],
      "text/plain": [
       "              count      mean       std  min  25%  50%  75%  max\n",
       "cohesion     3911.0  3.127077  0.662542  1.0  2.5  3.0  3.5  5.0\n",
       "syntax       3911.0  3.028254  0.644399  1.0  2.5  3.0  3.5  5.0\n",
       "vocabulary   3911.0  3.235745  0.583148  1.0  3.0  3.0  3.5  5.0\n",
       "phraseology  3911.0  3.116850  0.655997  1.0  2.5  3.0  3.5  5.0\n",
       "grammar      3911.0  3.032856  0.699841  1.0  2.5  3.0  3.5  5.0\n",
       "conventions  3911.0  3.081053  0.671450  1.0  2.5  3.0  3.5  5.0"
      ]
     },
     "execution_count": 6,
     "metadata": {},
     "output_type": "execute_result"
    }
   ],
   "source": [
    "df.describe().T"
   ]
  },
  {
   "cell_type": "code",
   "execution_count": 10,
   "id": "6db7e490",
   "metadata": {},
   "outputs": [
    {
     "data": {
      "image/png": "[encoded data removed]",
      "text/plain": [
       "<Figure size 432x288 with 2 Axes>"
      ]
     },
     "metadata": {
      "needs_background": "light"
     },
     "output_type": "display_data"
    }
   ],
   "source": [
    "corrMatrix = df.corr()\n",
    "sns.heatmap(corrMatrix, annot=True)\n",
    "plt.show()"
   ]
  },
  {
   "cell_type": "code",
   "execution_count": 12,
   "id": "5b7e9ed3",
   "metadata": {},
   "outputs": [],
   "source": [
    "vocabulary_cohesion = df[['full_text', 'vocabulary', 'cohesion']]"
   ]
  },
  {
   "cell_type": "code",
   "execution_count": 13,
   "id": "1051dec9",
   "metadata": {},
   "outputs": [
    {
     "data": {
      "text/html": [
       "<div>\n",
       "<style scoped>\n",
       "    .dataframe tbody tr th:only-of-type {\n",
       "        vertical-align: middle;\n",
       "    }\n",
       "\n",
       "    .dataframe tbody tr th {\n",
       "        vertical-align: top;\n",
       "    }\n",
       "\n",
       "    .dataframe thead th {\n",
       "        text-align: right;\n",
       "    }\n",
       "</style>\n",
       "<table border=\"1\" class=\"dataframe\">\n",
       "  <thead>\n",
       "    <tr style=\"text-align: right;\">\n",
       "      <th></th>\n",
       "      <th>count</th>\n",
       "      <th>mean</th>\n",
       "      <th>std</th>\n",
       "      <th>min</th>\n",
       "      <th>25%</th>\n",
       "      <th>50%</th>\n",
       "      <th>75%</th>\n",
       "      <th>max</th>\n",
       "    </tr>\n",
       "  </thead>\n",
       "  <tbody>\n",
       "    <tr>\n",
       "      <th>vocabulary</th>\n",
       "      <td>3911.0</td>\n",
       "      <td>3.235745</td>\n",
       "      <td>0.583148</td>\n",
       "      <td>1.0</td>\n",
       "      <td>3.0</td>\n",
       "      <td>3.0</td>\n",
       "      <td>3.5</td>\n",
       "      <td>5.0</td>\n",
       "    </tr>\n",
       "    <tr>\n",
       "      <th>cohesion</th>\n",
       "      <td>3911.0</td>\n",
       "      <td>3.127077</td>\n",
       "      <td>0.662542</td>\n",
       "      <td>1.0</td>\n",
       "      <td>2.5</td>\n",
       "      <td>3.0</td>\n",
       "      <td>3.5</td>\n",
       "      <td>5.0</td>\n",
       "    </tr>\n",
       "  </tbody>\n",
       "</table>\n",
       "</div>"
      ],
      "text/plain": [
       "             count      mean       std  min  25%  50%  75%  max\n",
       "vocabulary  3911.0  3.235745  0.583148  1.0  3.0  3.0  3.5  5.0\n",
       "cohesion    3911.0  3.127077  0.662542  1.0  2.5  3.0  3.5  5.0"
      ]
     },
     "execution_count": 13,
     "metadata": {},
     "output_type": "execute_result"
    }
   ],
   "source": [
    "vocabulary_cohesion.describe().T"
   ]
  },
  {
   "cell_type": "code",
   "execution_count": 14,
   "id": "36279508",
   "metadata": {},
   "outputs": [],
   "source": [
    "vocabulary_conventions = df[['full_text', 'vocabulary', 'conventions']]"
   ]
  },
  {
   "cell_type": "code",
   "execution_count": 15,
   "id": "4e387f2b",
   "metadata": {},
   "outputs": [
    {
     "data": {
      "text/html": [
       "<div>\n",
       "<style scoped>\n",
       "    .dataframe tbody tr th:only-of-type {\n",
       "        vertical-align: middle;\n",
       "    }\n",
       "\n",
       "    .dataframe tbody tr th {\n",
       "        vertical-align: top;\n",
       "    }\n",
       "\n",
       "    .dataframe thead th {\n",
       "        text-align: right;\n",
       "    }\n",
       "</style>\n",
       "<table border=\"1\" class=\"dataframe\">\n",
       "  <thead>\n",
       "    <tr style=\"text-align: right;\">\n",
       "      <th></th>\n",
       "      <th>count</th>\n",
       "      <th>mean</th>\n",
       "      <th>std</th>\n",
       "      <th>min</th>\n",
       "      <th>25%</th>\n",
       "      <th>50%</th>\n",
       "      <th>75%</th>\n",
       "      <th>max</th>\n",
       "    </tr>\n",
       "  </thead>\n",
       "  <tbody>\n",
       "    <tr>\n",
       "      <th>vocabulary</th>\n",
       "      <td>3911.0</td>\n",
       "      <td>3.235745</td>\n",
       "      <td>0.583148</td>\n",
       "      <td>1.0</td>\n",
       "      <td>3.0</td>\n",
       "      <td>3.0</td>\n",
       "      <td>3.5</td>\n",
       "      <td>5.0</td>\n",
       "    </tr>\n",
       "    <tr>\n",
       "      <th>conventions</th>\n",
       "      <td>3911.0</td>\n",
       "      <td>3.081053</td>\n",
       "      <td>0.671450</td>\n",
       "      <td>1.0</td>\n",
       "      <td>2.5</td>\n",
       "      <td>3.0</td>\n",
       "      <td>3.5</td>\n",
       "      <td>5.0</td>\n",
       "    </tr>\n",
       "  </tbody>\n",
       "</table>\n",
       "</div>"
      ],
      "text/plain": [
       "              count      mean       std  min  25%  50%  75%  max\n",
       "vocabulary   3911.0  3.235745  0.583148  1.0  3.0  3.0  3.5  5.0\n",
       "conventions  3911.0  3.081053  0.671450  1.0  2.5  3.0  3.5  5.0"
      ]
     },
     "execution_count": 15,
     "metadata": {},
     "output_type": "execute_result"
    }
   ],
   "source": [
    "vocabulary_conventions.describe().T"
   ]
  },
  {
   "cell_type": "code",
   "execution_count": 16,
   "id": "0f4dc268",
   "metadata": {},
   "outputs": [],
   "source": [
    "vocabulary_phraseology = df[['vocabulary', 'phraseology']]"
   ]
  },
  {
   "cell_type": "code",
   "execution_count": 17,
   "id": "e53da527",
   "metadata": {},
   "outputs": [
    {
     "data": {
      "text/html": [
       "<div>\n",
       "<style scoped>\n",
       "    .dataframe tbody tr th:only-of-type {\n",
       "        vertical-align: middle;\n",
       "    }\n",
       "\n",
       "    .dataframe tbody tr th {\n",
       "        vertical-align: top;\n",
       "    }\n",
       "\n",
       "    .dataframe thead th {\n",
       "        text-align: right;\n",
       "    }\n",
       "</style>\n",
       "<table border=\"1\" class=\"dataframe\">\n",
       "  <thead>\n",
       "    <tr style=\"text-align: right;\">\n",
       "      <th></th>\n",
       "      <th>count</th>\n",
       "      <th>mean</th>\n",
       "      <th>std</th>\n",
       "      <th>min</th>\n",
       "      <th>25%</th>\n",
       "      <th>50%</th>\n",
       "      <th>75%</th>\n",
       "      <th>max</th>\n",
       "    </tr>\n",
       "  </thead>\n",
       "  <tbody>\n",
       "    <tr>\n",
       "      <th>vocabulary</th>\n",
       "      <td>3911.0</td>\n",
       "      <td>3.235745</td>\n",
       "      <td>0.583148</td>\n",
       "      <td>1.0</td>\n",
       "      <td>3.0</td>\n",
       "      <td>3.0</td>\n",
       "      <td>3.5</td>\n",
       "      <td>5.0</td>\n",
       "    </tr>\n",
       "    <tr>\n",
       "      <th>phraseology</th>\n",
       "      <td>3911.0</td>\n",
       "      <td>3.116850</td>\n",
       "      <td>0.655997</td>\n",
       "      <td>1.0</td>\n",
       "      <td>2.5</td>\n",
       "      <td>3.0</td>\n",
       "      <td>3.5</td>\n",
       "      <td>5.0</td>\n",
       "    </tr>\n",
       "  </tbody>\n",
       "</table>\n",
       "</div>"
      ],
      "text/plain": [
       "              count      mean       std  min  25%  50%  75%  max\n",
       "vocabulary   3911.0  3.235745  0.583148  1.0  3.0  3.0  3.5  5.0\n",
       "phraseology  3911.0  3.116850  0.655997  1.0  2.5  3.0  3.5  5.0"
      ]
     },
     "execution_count": 17,
     "metadata": {},
     "output_type": "execute_result"
    }
   ],
   "source": [
    "vocabulary_phraseology.describe().T"
   ]
  },
  {
   "cell_type": "code",
   "execution_count": 18,
   "id": "200e43fa",
   "metadata": {},
   "outputs": [],
   "source": [
    "vocabulary_syntax = df[['full_text', 'vocabulary', 'syntax']]"
   ]
  },
  {
   "cell_type": "code",
   "execution_count": 19,
   "id": "9cf36e49",
   "metadata": {},
   "outputs": [
    {
     "data": {
      "text/html": [
       "<div>\n",
       "<style scoped>\n",
       "    .dataframe tbody tr th:only-of-type {\n",
       "        vertical-align: middle;\n",
       "    }\n",
       "\n",
       "    .dataframe tbody tr th {\n",
       "        vertical-align: top;\n",
       "    }\n",
       "\n",
       "    .dataframe thead th {\n",
       "        text-align: right;\n",
       "    }\n",
       "</style>\n",
       "<table border=\"1\" class=\"dataframe\">\n",
       "  <thead>\n",
       "    <tr style=\"text-align: right;\">\n",
       "      <th></th>\n",
       "      <th>count</th>\n",
       "      <th>mean</th>\n",
       "      <th>std</th>\n",
       "      <th>min</th>\n",
       "      <th>25%</th>\n",
       "      <th>50%</th>\n",
       "      <th>75%</th>\n",
       "      <th>max</th>\n",
       "    </tr>\n",
       "  </thead>\n",
       "  <tbody>\n",
       "    <tr>\n",
       "      <th>vocabulary</th>\n",
       "      <td>3911.0</td>\n",
       "      <td>3.235745</td>\n",
       "      <td>0.583148</td>\n",
       "      <td>1.0</td>\n",
       "      <td>3.0</td>\n",
       "      <td>3.0</td>\n",
       "      <td>3.5</td>\n",
       "      <td>5.0</td>\n",
       "    </tr>\n",
       "    <tr>\n",
       "      <th>syntax</th>\n",
       "      <td>3911.0</td>\n",
       "      <td>3.028254</td>\n",
       "      <td>0.644399</td>\n",
       "      <td>1.0</td>\n",
       "      <td>2.5</td>\n",
       "      <td>3.0</td>\n",
       "      <td>3.5</td>\n",
       "      <td>5.0</td>\n",
       "    </tr>\n",
       "  </tbody>\n",
       "</table>\n",
       "</div>"
      ],
      "text/plain": [
       "             count      mean       std  min  25%  50%  75%  max\n",
       "vocabulary  3911.0  3.235745  0.583148  1.0  3.0  3.0  3.5  5.0\n",
       "syntax      3911.0  3.028254  0.644399  1.0  2.5  3.0  3.5  5.0"
      ]
     },
     "execution_count": 19,
     "metadata": {},
     "output_type": "execute_result"
    }
   ],
   "source": [
    "vocabulary_syntax.describe().T"
   ]
  },
  {
   "cell_type": "code",
   "execution_count": 20,
   "id": "f5de6e50",
   "metadata": {},
   "outputs": [],
   "source": [
    "vocabulary_grammar = df[['full_text', 'vocabulary', 'grammar']]"
   ]
  },
  {
   "cell_type": "code",
   "execution_count": 21,
   "id": "113223f0",
   "metadata": {},
   "outputs": [
    {
     "data": {
      "text/html": [
       "<div>\n",
       "<style scoped>\n",
       "    .dataframe tbody tr th:only-of-type {\n",
       "        vertical-align: middle;\n",
       "    }\n",
       "\n",
       "    .dataframe tbody tr th {\n",
       "        vertical-align: top;\n",
       "    }\n",
       "\n",
       "    .dataframe thead th {\n",
       "        text-align: right;\n",
       "    }\n",
       "</style>\n",
       "<table border=\"1\" class=\"dataframe\">\n",
       "  <thead>\n",
       "    <tr style=\"text-align: right;\">\n",
       "      <th></th>\n",
       "      <th>count</th>\n",
       "      <th>mean</th>\n",
       "      <th>std</th>\n",
       "      <th>min</th>\n",
       "      <th>25%</th>\n",
       "      <th>50%</th>\n",
       "      <th>75%</th>\n",
       "      <th>max</th>\n",
       "    </tr>\n",
       "  </thead>\n",
       "  <tbody>\n",
       "    <tr>\n",
       "      <th>vocabulary</th>\n",
       "      <td>3911.0</td>\n",
       "      <td>3.235745</td>\n",
       "      <td>0.583148</td>\n",
       "      <td>1.0</td>\n",
       "      <td>3.0</td>\n",
       "      <td>3.0</td>\n",
       "      <td>3.5</td>\n",
       "      <td>5.0</td>\n",
       "    </tr>\n",
       "    <tr>\n",
       "      <th>grammar</th>\n",
       "      <td>3911.0</td>\n",
       "      <td>3.032856</td>\n",
       "      <td>0.699841</td>\n",
       "      <td>1.0</td>\n",
       "      <td>2.5</td>\n",
       "      <td>3.0</td>\n",
       "      <td>3.5</td>\n",
       "      <td>5.0</td>\n",
       "    </tr>\n",
       "  </tbody>\n",
       "</table>\n",
       "</div>"
      ],
      "text/plain": [
       "             count      mean       std  min  25%  50%  75%  max\n",
       "vocabulary  3911.0  3.235745  0.583148  1.0  3.0  3.0  3.5  5.0\n",
       "grammar     3911.0  3.032856  0.699841  1.0  2.5  3.0  3.5  5.0"
      ]
     },
     "execution_count": 21,
     "metadata": {},
     "output_type": "execute_result"
    }
   ],
   "source": [
    "vocabulary_grammar.describe().T"
   ]
  },
  {
   "cell_type": "code",
   "execution_count": 22,
   "id": "69931515",
   "metadata": {},
   "outputs": [],
   "source": [
    "grammar_syntax = df[['grammar', 'phraseology']]"
   ]
  },
  {
   "cell_type": "code",
   "execution_count": 23,
   "id": "055d383e",
   "metadata": {},
   "outputs": [
    {
     "data": {
      "text/html": [
       "<div>\n",
       "<style scoped>\n",
       "    .dataframe tbody tr th:only-of-type {\n",
       "        vertical-align: middle;\n",
       "    }\n",
       "\n",
       "    .dataframe tbody tr th {\n",
       "        vertical-align: top;\n",
       "    }\n",
       "\n",
       "    .dataframe thead th {\n",
       "        text-align: right;\n",
       "    }\n",
       "</style>\n",
       "<table border=\"1\" class=\"dataframe\">\n",
       "  <thead>\n",
       "    <tr style=\"text-align: right;\">\n",
       "      <th></th>\n",
       "      <th>count</th>\n",
       "      <th>mean</th>\n",
       "      <th>std</th>\n",
       "      <th>min</th>\n",
       "      <th>25%</th>\n",
       "      <th>50%</th>\n",
       "      <th>75%</th>\n",
       "      <th>max</th>\n",
       "    </tr>\n",
       "  </thead>\n",
       "  <tbody>\n",
       "    <tr>\n",
       "      <th>grammar</th>\n",
       "      <td>3911.0</td>\n",
       "      <td>3.032856</td>\n",
       "      <td>0.699841</td>\n",
       "      <td>1.0</td>\n",
       "      <td>2.5</td>\n",
       "      <td>3.0</td>\n",
       "      <td>3.5</td>\n",
       "      <td>5.0</td>\n",
       "    </tr>\n",
       "    <tr>\n",
       "      <th>phraseology</th>\n",
       "      <td>3911.0</td>\n",
       "      <td>3.116850</td>\n",
       "      <td>0.655997</td>\n",
       "      <td>1.0</td>\n",
       "      <td>2.5</td>\n",
       "      <td>3.0</td>\n",
       "      <td>3.5</td>\n",
       "      <td>5.0</td>\n",
       "    </tr>\n",
       "  </tbody>\n",
       "</table>\n",
       "</div>"
      ],
      "text/plain": [
       "              count      mean       std  min  25%  50%  75%  max\n",
       "grammar      3911.0  3.032856  0.699841  1.0  2.5  3.0  3.5  5.0\n",
       "phraseology  3911.0  3.116850  0.655997  1.0  2.5  3.0  3.5  5.0"
      ]
     },
     "execution_count": 23,
     "metadata": {},
     "output_type": "execute_result"
    }
   ],
   "source": [
    "grammar_syntax.describe().T"
   ]
  },
  {
   "cell_type": "markdown",
   "id": "e6d9e210",
   "metadata": {},
   "source": [
    "## Data Visualization"
   ]
  },
  {
   "cell_type": "code",
   "execution_count": 25,
   "id": "4c62f4e2",
   "metadata": {},
   "outputs": [
    {
     "name": "stderr",
     "output_type": "stream",
     "text": [
      "/home/spyros/anaconda3/lib/python3.9/site-packages/seaborn/distributions.py:2619: FutureWarning: `distplot` is a deprecated function and will be removed in a future version. Please adapt your code to use either `displot` (a figure-level function with similar flexibility) or `histplot` (an axes-level function for histograms).\n",
      "  warnings.warn(msg, FutureWarning)\n"
     ]
    },
    {
     "data": {
      "text/plain": [
       "Text(0, 0.5, 'Density')"
      ]
     },
     "execution_count": 25,
     "metadata": {},
     "output_type": "execute_result"
    },
    {
     "data": {
      "image/png": "[encoded data removed]",
      "text/plain": [
       "<Figure size 720x576 with 1 Axes>"
      ]
     },
     "metadata": {
      "needs_background": "light"
     },
     "output_type": "display_data"
    }
   ],
   "source": [
    "fig = plt.figure(figsize=(10,8))\n",
    "sns.distplot(df['vocabulary'], color='blue')\n",
    "plt.title('Vocabulary Distribution')\n",
    "plt.xlabel('Vocabulary')\n",
    "plt.ylabel('Density')"
   ]
  },
  {
   "cell_type": "code",
   "execution_count": 26,
   "id": "b55b36ae",
   "metadata": {},
   "outputs": [
    {
     "name": "stderr",
     "output_type": "stream",
     "text": [
      "/home/spyros/anaconda3/lib/python3.9/site-packages/seaborn/distributions.py:2619: FutureWarning: `distplot` is a deprecated function and will be removed in a future version. Please adapt your code to use either `displot` (a figure-level function with similar flexibility) or `histplot` (an axes-level function for histograms).\n",
      "  warnings.warn(msg, FutureWarning)\n"
     ]
    },
    {
     "data": {
      "text/plain": [
       "Text(0, 0.5, 'Density')"
      ]
     },
     "execution_count": 26,
     "metadata": {},
     "output_type": "execute_result"
    },
    {
     "data": {
      "image/png": "[encoded data removed]",
      "text/plain": [
       "<Figure size 720x576 with 1 Axes>"
      ]
     },
     "metadata": {
      "needs_background": "light"
     },
     "output_type": "display_data"
    }
   ],
   "source": [
    "fig = plt.figure(figsize=(10,8))\n",
    "sns.distplot(df['phraseology'], color='blue')\n",
    "plt.title('Phraseology Distribution')\n",
    "plt.xlabel('Phraseology')\n",
    "plt.ylabel('Density')"
   ]
  },
  {
   "cell_type": "markdown",
   "id": "d2eab72c",
   "metadata": {},
   "source": [
    "### Data pre processing"
   ]
  },
  {
   "cell_type": "code",
   "execution_count": 27,
   "id": "75586674",
   "metadata": {},
   "outputs": [],
   "source": [
    "def tokenize_data(data):\n",
    "    tokens = word_tokenize(data)\n",
    "    return tokens"
   ]
  },
  {
   "cell_type": "code",
   "execution_count": 28,
   "id": "8c54dc8d",
   "metadata": {},
   "outputs": [],
   "source": [
    "def lowercase_data(data):\n",
    "    lowercase = np.char.lower(data)\n",
    "    return lowercase"
   ]
  },
  {
   "cell_type": "code",
   "execution_count": 29,
   "id": "4eb47387",
   "metadata": {},
   "outputs": [],
   "source": [
    "def remove_punctuation(data):\n",
    "    symbols = \"!\\\"#$%&()*+-.,/:;<=>?@[\\]^_`{|}~\\n\"\n",
    "    no_punctuation = data\n",
    "    for i in symbols:\n",
    "        no_punctuation = np.char.replace(no_punctuation, i, ' ')\n",
    "        no_punctuation = np.char.replace(no_punctuation, \"'\", \"\")        \n",
    "        \n",
    "    return no_punctuation"
   ]
  },
  {
   "cell_type": "code",
   "execution_count": 30,
   "id": "2240bc7a",
   "metadata": {},
   "outputs": [],
   "source": [
    "def numbers_to_words(data):\n",
    "    newData = []\n",
    "    for i in data:\n",
    "        if i != str(i):\n",
    "            num = num2words(i)\n",
    "            newData.append(num)\n",
    "        else:\n",
    "            newData.append(i)\n",
    "    return newData"
   ]
  },
  {
   "cell_type": "code",
   "execution_count": 31,
   "id": "82fa7ab5",
   "metadata": {},
   "outputs": [],
   "source": [
    "def remove_stop_words(data):\n",
    "    stop_words = set(stopwords.words('english'))\n",
    "    words = [w for w in data if not w in stop_words]\n",
    "    return words"
   ]
  },
  {
   "cell_type": "code",
   "execution_count": 32,
   "id": "fdc4ea02",
   "metadata": {},
   "outputs": [],
   "source": [
    "def lemmatize_words(data):\n",
    "    a = []\n",
    "    lemmatizer = WordNetLemmatizer()\n",
    "    for i in data:\n",
    "        lemmatized_word = lemmatizer.lemmatize(i)\n",
    "        a.append(lemmatized_word)\n",
    "    return a"
   ]
  },
  {
   "cell_type": "code",
   "execution_count": 33,
   "id": "996b7366",
   "metadata": {},
   "outputs": [],
   "source": [
    "def data_cleaning(data):\n",
    "    df = data\n",
    "    # Loop through data and clean it.\n",
    "    for i in data:\n",
    "       \n",
    "        ndata = tokenize_data(i)\n",
    "        ndata = remove_punctuation(ndata)\n",
    "        ndata = lowercase_data(ndata)\n",
    "        ndata = numbers_to_words(ndata)\n",
    "        ndata = remove_stop_words(ndata)\n",
    "        ndata = lemmatize_words(ndata)\n",
    "        ndata = numbers_to_words(ndata)\n",
    "        ndata = ' '.join(ndata)\n",
    "        ndata = remove_punctuation(ndata)\n",
    "        \n",
    "        \n",
    "        \n",
    "        df = df.replace(i, ndata)\n",
    "\n",
    "    return df"
   ]
  },
  {
   "cell_type": "code",
   "execution_count": 34,
   "id": "53525f34",
   "metadata": {},
   "outputs": [],
   "source": [
    "def split_test_validation(data):    \n",
    "    train_d, val_d = train_test_split(data, test_size=0.1, random_state=1)\n",
    "\n",
    "    return train_d, val_d"
   ]
  },
  {
   "cell_type": "code",
   "execution_count": 35,
   "id": "bbc3805f",
   "metadata": {},
   "outputs": [],
   "source": [
    "def tf_idf(data, feature_num):\n",
    "    \n",
    "    vectorizer = TfidfVectorizer(max_features=feature_num,\n",
    "                                 max_df=0.9,\n",
    "                                 min_df=0.1\n",
    "                                 )\n",
    "    vectors = vectorizer.fit_transform(data)\n",
    "    dense = vectors.todense()\n",
    "    denselist = dense.tolist()\n",
    "    feature_names = vectorizer.get_feature_names_out()\n",
    "    vocabulary = vectorizer.vocabulary_\n",
    "    \n",
    "    all_keywords = []\n",
    "    for i in denselist:\n",
    "        x = 0\n",
    "        keywords = []\n",
    "        for word in i:\n",
    "            if word > 0:\n",
    "                keywords.append(feature_names[x])\n",
    "            x=x+1\n",
    "        all_keywords.append(keywords)\n",
    "            \n",
    "#     , denselist, feature_names, all_keywords, vocabulary\n",
    "    return vectors, vectorizer"
   ]
  },
  {
   "cell_type": "code",
   "execution_count": 36,
   "id": "f6eaf52d",
   "metadata": {},
   "outputs": [],
   "source": [
    "def tfidf_pipeline(data_path):\n",
    "    data = load_data(data_path)\n",
    "    #Split dataset to train and validation data\n",
    "    train_data, validation_data = split_test_validation(data)\n",
    "    x_train = train_data['full_text']\n",
    "    y_train = np.asarray(train_data['vocabulary'])\n",
    "    \n",
    "    # Clean data\n",
    "    clean_data = data_cleanning(x_train)\n",
    "    \n",
    "    # perform tfidf to clean data\n",
    "    vectors, vectorizer = tf_idf(clean_data['full_text'])\n",
    "    \n",
    "    # Convert vectoried data with keywords into a dataframe\n",
    "#     data=[]\n",
    "#     for i in range(len(all_keywords)):\n",
    "#         data.insert(i, {'words':all_keywords[i],'vectors':denselist[i],})\n",
    "#     dataframe = data\n",
    "\n",
    "    return vectors, vectorizer, y_train, validation_data"
   ]
  },
  {
   "cell_type": "code",
   "execution_count": 37,
   "id": "c9edc59a",
   "metadata": {},
   "outputs": [],
   "source": [
    "def vectorize(feature_num):\n",
    "    data = load_data(train_data_path)\n",
    "    data_text = data['full_text']\n",
    "    clean_data = data_cleaning(data_text)\n",
    "    vectors, vectorizer = tf_idf(clean_data, feature_num)\n",
    "    return vectors, vectorizer, clean_data"
   ]
  },
  {
   "cell_type": "code",
   "execution_count": 194,
   "id": "43c0d9b0",
   "metadata": {},
   "outputs": [],
   "source": [
    "vectors10, vectorizer10, clean_data10 = vectorize(10)"
   ]
  },
  {
   "cell_type": "code",
   "execution_count": 193,
   "id": "f748c92d",
   "metadata": {},
   "outputs": [],
   "source": [
    "vectors50, vectorizer50, clean_data50 = vectorize(50)"
   ]
  },
  {
   "cell_type": "code",
   "execution_count": null,
   "id": "621e1ca6",
   "metadata": {},
   "outputs": [],
   "source": [
    "vectors100, vectorizer100, clean_data100 = vectorize(100)"
   ]
  },
  {
   "cell_type": "code",
   "execution_count": 253,
   "id": "1cbb41a8",
   "metadata": {},
   "outputs": [],
   "source": [
    "vectors200, vectorizer200, clean_data200 = vectorize(200)"
   ]
  },
  {
   "cell_type": "code",
   "execution_count": 38,
   "id": "813f9cb7",
   "metadata": {},
   "outputs": [],
   "source": [
    "vectors1000, vectorizer1000, clean_data1000 = vectorize(1000)"
   ]
  },
  {
   "cell_type": "code",
   "execution_count": 39,
   "id": "9d5a0ad8",
   "metadata": {},
   "outputs": [],
   "source": [
    "vectors5000, vectorizer5000, clean_data5000 = vectorize(5000)"
   ]
  },
  {
   "cell_type": "code",
   "execution_count": 218,
   "id": "1cb857db",
   "metadata": {},
   "outputs": [],
   "source": [
    "vectors20000, vectorizer20000, clean_data20000 = vectorize(20000)"
   ]
  },
  {
   "cell_type": "code",
   "execution_count": 42,
   "id": "279976ee",
   "metadata": {
    "scrolled": false
   },
   "outputs": [
    {
     "name": "stderr",
     "output_type": "stream",
     "text": [
      "/tmp/ipykernel_162713/130842586.py:7: FutureWarning: Dropping of nuisance columns in DataFrame reductions (with 'numeric_only=None') is deprecated; in a future version this will raise TypeError.  Select only valid columns before calling the reduction.\n",
      "  dataframe['Max'] = dataframe.max(axis=1)\n",
      "/tmp/ipykernel_162713/130842586.py:8: FutureWarning: Dropping of nuisance columns in DataFrame reductions (with 'numeric_only=None') is deprecated; in a future version this will raise TypeError.  Select only valid columns before calling the reduction.\n",
      "  dataframe['Sum'] = dataframe.drop('Max', axis=1).sum(axis=1)\n"
     ]
    },
    {
     "data": {
      "text/html": [
       "<div>\n",
       "<style scoped>\n",
       "    .dataframe tbody tr th:only-of-type {\n",
       "        vertical-align: middle;\n",
       "    }\n",
       "\n",
       "    .dataframe tbody tr th {\n",
       "        vertical-align: top;\n",
       "    }\n",
       "\n",
       "    .dataframe thead th {\n",
       "        text-align: right;\n",
       "    }\n",
       "</style>\n",
       "<table border=\"1\" class=\"dataframe\">\n",
       "  <thead>\n",
       "    <tr style=\"text-align: right;\">\n",
       "      <th></th>\n",
       "      <th>able</th>\n",
       "      <th>accomplish</th>\n",
       "      <th>activity</th>\n",
       "      <th>agree</th>\n",
       "      <th>already</th>\n",
       "      <th>also</th>\n",
       "      <th>always</th>\n",
       "      <th>another</th>\n",
       "      <th>anything</th>\n",
       "      <th>around</th>\n",
       "      <th>...</th>\n",
       "      <th>wo</th>\n",
       "      <th>work</th>\n",
       "      <th>working</th>\n",
       "      <th>world</th>\n",
       "      <th>would</th>\n",
       "      <th>wrong</th>\n",
       "      <th>year</th>\n",
       "      <th>keyword</th>\n",
       "      <th>Max</th>\n",
       "      <th>Sum</th>\n",
       "    </tr>\n",
       "  </thead>\n",
       "  <tbody>\n",
       "    <tr>\n",
       "      <th>0</th>\n",
       "      <td>0.000000</td>\n",
       "      <td>0.000000</td>\n",
       "      <td>0.000000</td>\n",
       "      <td>0.000000</td>\n",
       "      <td>0.0</td>\n",
       "      <td>0.000000</td>\n",
       "      <td>0.000000</td>\n",
       "      <td>0.000000</td>\n",
       "      <td>0.083207</td>\n",
       "      <td>0.000000</td>\n",
       "      <td>...</td>\n",
       "      <td>0.000000</td>\n",
       "      <td>0.050789</td>\n",
       "      <td>0.000000</td>\n",
       "      <td>0.000000</td>\n",
       "      <td>0.056695</td>\n",
       "      <td>0.000000</td>\n",
       "      <td>0.0</td>\n",
       "      <td>cause</td>\n",
       "      <td>0.420132</td>\n",
       "      <td>5.234868</td>\n",
       "    </tr>\n",
       "    <tr>\n",
       "      <th>1</th>\n",
       "      <td>0.000000</td>\n",
       "      <td>0.000000</td>\n",
       "      <td>0.000000</td>\n",
       "      <td>0.000000</td>\n",
       "      <td>0.0</td>\n",
       "      <td>0.021114</td>\n",
       "      <td>0.000000</td>\n",
       "      <td>0.000000</td>\n",
       "      <td>0.000000</td>\n",
       "      <td>0.070994</td>\n",
       "      <td>...</td>\n",
       "      <td>0.000000</td>\n",
       "      <td>0.082872</td>\n",
       "      <td>0.000000</td>\n",
       "      <td>0.000000</td>\n",
       "      <td>0.000000</td>\n",
       "      <td>0.038463</td>\n",
       "      <td>0.0</td>\n",
       "      <td>change</td>\n",
       "      <td>0.512929</td>\n",
       "      <td>4.929603</td>\n",
       "    </tr>\n",
       "    <tr>\n",
       "      <th>2</th>\n",
       "      <td>0.170962</td>\n",
       "      <td>0.000000</td>\n",
       "      <td>0.418408</td>\n",
       "      <td>0.000000</td>\n",
       "      <td>0.0</td>\n",
       "      <td>0.000000</td>\n",
       "      <td>0.000000</td>\n",
       "      <td>0.000000</td>\n",
       "      <td>0.000000</td>\n",
       "      <td>0.000000</td>\n",
       "      <td>...</td>\n",
       "      <td>0.000000</td>\n",
       "      <td>0.000000</td>\n",
       "      <td>0.058425</td>\n",
       "      <td>0.000000</td>\n",
       "      <td>0.000000</td>\n",
       "      <td>0.000000</td>\n",
       "      <td>0.0</td>\n",
       "      <td>sport</td>\n",
       "      <td>0.576605</td>\n",
       "      <td>4.595909</td>\n",
       "    </tr>\n",
       "    <tr>\n",
       "      <th>3</th>\n",
       "      <td>0.041259</td>\n",
       "      <td>0.000000</td>\n",
       "      <td>0.000000</td>\n",
       "      <td>0.114870</td>\n",
       "      <td>0.0</td>\n",
       "      <td>0.157186</td>\n",
       "      <td>0.000000</td>\n",
       "      <td>0.000000</td>\n",
       "      <td>0.000000</td>\n",
       "      <td>0.000000</td>\n",
       "      <td>...</td>\n",
       "      <td>0.051957</td>\n",
       "      <td>0.000000</td>\n",
       "      <td>0.000000</td>\n",
       "      <td>0.153549</td>\n",
       "      <td>0.086088</td>\n",
       "      <td>0.095448</td>\n",
       "      <td>0.0</td>\n",
       "      <td>make</td>\n",
       "      <td>0.382393</td>\n",
       "      <td>6.104277</td>\n",
       "    </tr>\n",
       "    <tr>\n",
       "      <th>4</th>\n",
       "      <td>0.000000</td>\n",
       "      <td>0.000000</td>\n",
       "      <td>0.000000</td>\n",
       "      <td>0.000000</td>\n",
       "      <td>0.0</td>\n",
       "      <td>0.000000</td>\n",
       "      <td>0.000000</td>\n",
       "      <td>0.175854</td>\n",
       "      <td>0.000000</td>\n",
       "      <td>0.000000</td>\n",
       "      <td>...</td>\n",
       "      <td>0.000000</td>\n",
       "      <td>0.000000</td>\n",
       "      <td>0.000000</td>\n",
       "      <td>0.000000</td>\n",
       "      <td>0.066949</td>\n",
       "      <td>0.000000</td>\n",
       "      <td>0.0</td>\n",
       "      <td>change</td>\n",
       "      <td>0.464012</td>\n",
       "      <td>4.957004</td>\n",
       "    </tr>\n",
       "    <tr>\n",
       "      <th>5</th>\n",
       "      <td>0.000000</td>\n",
       "      <td>0.000000</td>\n",
       "      <td>0.000000</td>\n",
       "      <td>0.000000</td>\n",
       "      <td>0.0</td>\n",
       "      <td>0.000000</td>\n",
       "      <td>0.000000</td>\n",
       "      <td>0.000000</td>\n",
       "      <td>0.000000</td>\n",
       "      <td>0.000000</td>\n",
       "      <td>...</td>\n",
       "      <td>0.000000</td>\n",
       "      <td>0.000000</td>\n",
       "      <td>0.000000</td>\n",
       "      <td>0.000000</td>\n",
       "      <td>0.162478</td>\n",
       "      <td>0.067554</td>\n",
       "      <td>0.0</td>\n",
       "      <td>student</td>\n",
       "      <td>0.642095</td>\n",
       "      <td>4.433597</td>\n",
       "    </tr>\n",
       "    <tr>\n",
       "      <th>6</th>\n",
       "      <td>0.000000</td>\n",
       "      <td>0.037361</td>\n",
       "      <td>0.000000</td>\n",
       "      <td>0.053654</td>\n",
       "      <td>0.0</td>\n",
       "      <td>0.000000</td>\n",
       "      <td>0.000000</td>\n",
       "      <td>0.000000</td>\n",
       "      <td>0.000000</td>\n",
       "      <td>0.000000</td>\n",
       "      <td>...</td>\n",
       "      <td>0.000000</td>\n",
       "      <td>0.054033</td>\n",
       "      <td>0.000000</td>\n",
       "      <td>0.000000</td>\n",
       "      <td>0.000000</td>\n",
       "      <td>0.000000</td>\n",
       "      <td>0.0</td>\n",
       "      <td>problem</td>\n",
       "      <td>0.903921</td>\n",
       "      <td>2.963315</td>\n",
       "    </tr>\n",
       "    <tr>\n",
       "      <th>7</th>\n",
       "      <td>0.000000</td>\n",
       "      <td>0.000000</td>\n",
       "      <td>0.000000</td>\n",
       "      <td>0.000000</td>\n",
       "      <td>0.0</td>\n",
       "      <td>0.040031</td>\n",
       "      <td>0.000000</td>\n",
       "      <td>0.000000</td>\n",
       "      <td>0.000000</td>\n",
       "      <td>0.000000</td>\n",
       "      <td>...</td>\n",
       "      <td>0.000000</td>\n",
       "      <td>0.078562</td>\n",
       "      <td>0.000000</td>\n",
       "      <td>0.058657</td>\n",
       "      <td>0.000000</td>\n",
       "      <td>0.000000</td>\n",
       "      <td>0.0</td>\n",
       "      <td>study</td>\n",
       "      <td>0.407012</td>\n",
       "      <td>5.126880</td>\n",
       "    </tr>\n",
       "    <tr>\n",
       "      <th>8</th>\n",
       "      <td>0.000000</td>\n",
       "      <td>0.211439</td>\n",
       "      <td>0.000000</td>\n",
       "      <td>0.101216</td>\n",
       "      <td>0.0</td>\n",
       "      <td>0.000000</td>\n",
       "      <td>0.127351</td>\n",
       "      <td>0.049812</td>\n",
       "      <td>0.111327</td>\n",
       "      <td>0.000000</td>\n",
       "      <td>...</td>\n",
       "      <td>0.000000</td>\n",
       "      <td>0.101931</td>\n",
       "      <td>0.000000</td>\n",
       "      <td>0.000000</td>\n",
       "      <td>0.037928</td>\n",
       "      <td>0.000000</td>\n",
       "      <td>0.0</td>\n",
       "      <td>positive</td>\n",
       "      <td>0.641336</td>\n",
       "      <td>5.473402</td>\n",
       "    </tr>\n",
       "    <tr>\n",
       "      <th>9</th>\n",
       "      <td>0.000000</td>\n",
       "      <td>0.000000</td>\n",
       "      <td>0.000000</td>\n",
       "      <td>0.000000</td>\n",
       "      <td>0.0</td>\n",
       "      <td>0.000000</td>\n",
       "      <td>0.000000</td>\n",
       "      <td>0.000000</td>\n",
       "      <td>0.000000</td>\n",
       "      <td>0.000000</td>\n",
       "      <td>...</td>\n",
       "      <td>0.000000</td>\n",
       "      <td>0.000000</td>\n",
       "      <td>0.000000</td>\n",
       "      <td>0.000000</td>\n",
       "      <td>0.063848</td>\n",
       "      <td>0.000000</td>\n",
       "      <td>0.0</td>\n",
       "      <td>opinion</td>\n",
       "      <td>0.582533</td>\n",
       "      <td>5.074303</td>\n",
       "    </tr>\n",
       "  </tbody>\n",
       "</table>\n",
       "<p>10 rows × 192 columns</p>\n",
       "</div>"
      ],
      "text/plain": [
       "       able  accomplish  activity     agree  already      also    always  \\\n",
       "0  0.000000    0.000000  0.000000  0.000000      0.0  0.000000  0.000000   \n",
       "1  0.000000    0.000000  0.000000  0.000000      0.0  0.021114  0.000000   \n",
       "2  0.170962    0.000000  0.418408  0.000000      0.0  0.000000  0.000000   \n",
       "3  0.041259    0.000000  0.000000  0.114870      0.0  0.157186  0.000000   \n",
       "4  0.000000    0.000000  0.000000  0.000000      0.0  0.000000  0.000000   \n",
       "5  0.000000    0.000000  0.000000  0.000000      0.0  0.000000  0.000000   \n",
       "6  0.000000    0.037361  0.000000  0.053654      0.0  0.000000  0.000000   \n",
       "7  0.000000    0.000000  0.000000  0.000000      0.0  0.040031  0.000000   \n",
       "8  0.000000    0.211439  0.000000  0.101216      0.0  0.000000  0.127351   \n",
       "9  0.000000    0.000000  0.000000  0.000000      0.0  0.000000  0.000000   \n",
       "\n",
       "    another  anything    around  ...        wo      work   working     world  \\\n",
       "0  0.000000  0.083207  0.000000  ...  0.000000  0.050789  0.000000  0.000000   \n",
       "1  0.000000  0.000000  0.070994  ...  0.000000  0.082872  0.000000  0.000000   \n",
       "2  0.000000  0.000000  0.000000  ...  0.000000  0.000000  0.058425  0.000000   \n",
       "3  0.000000  0.000000  0.000000  ...  0.051957  0.000000  0.000000  0.153549   \n",
       "4  0.175854  0.000000  0.000000  ...  0.000000  0.000000  0.000000  0.000000   \n",
       "5  0.000000  0.000000  0.000000  ...  0.000000  0.000000  0.000000  0.000000   \n",
       "6  0.000000  0.000000  0.000000  ...  0.000000  0.054033  0.000000  0.000000   \n",
       "7  0.000000  0.000000  0.000000  ...  0.000000  0.078562  0.000000  0.058657   \n",
       "8  0.049812  0.111327  0.000000  ...  0.000000  0.101931  0.000000  0.000000   \n",
       "9  0.000000  0.000000  0.000000  ...  0.000000  0.000000  0.000000  0.000000   \n",
       "\n",
       "      would     wrong  year   keyword       Max       Sum  \n",
       "0  0.056695  0.000000   0.0     cause  0.420132  5.234868  \n",
       "1  0.000000  0.038463   0.0    change  0.512929  4.929603  \n",
       "2  0.000000  0.000000   0.0     sport  0.576605  4.595909  \n",
       "3  0.086088  0.095448   0.0      make  0.382393  6.104277  \n",
       "4  0.066949  0.000000   0.0    change  0.464012  4.957004  \n",
       "5  0.162478  0.067554   0.0   student  0.642095  4.433597  \n",
       "6  0.000000  0.000000   0.0   problem  0.903921  2.963315  \n",
       "7  0.000000  0.000000   0.0     study  0.407012  5.126880  \n",
       "8  0.037928  0.000000   0.0  positive  0.641336  5.473402  \n",
       "9  0.063848  0.000000   0.0   opinion  0.582533  5.074303  \n",
       "\n",
       "[10 rows x 192 columns]"
      ]
     },
     "execution_count": 42,
     "metadata": {},
     "output_type": "execute_result"
    }
   ],
   "source": [
    "# List of all vectors and words\n",
    "weights = vectors1000.toarray()\n",
    "vocab = vectorizer1000.get_feature_names_out()\n",
    "# Dataframe of both together\n",
    "dataframe = pd.DataFrame(weights, columns=vocab)\n",
    "dataframe['keyword'] = dataframe.idxmax(axis=1)\n",
    "dataframe['Max'] = dataframe.max(axis=1)\n",
    "dataframe['Sum'] = dataframe.drop('Max', axis=1).sum(axis=1)\n",
    "dataframe.head(10)"
   ]
  },
  {
   "cell_type": "markdown",
   "id": "9b9614d7",
   "metadata": {},
   "source": [
    "### Top 30 frequently occured words"
   ]
  },
  {
   "cell_type": "code",
   "execution_count": 43,
   "id": "6b500f5c",
   "metadata": {},
   "outputs": [],
   "source": [
    "from sklearn.feature_extraction.text import CountVectorizer"
   ]
  },
  {
   "cell_type": "code",
   "execution_count": 44,
   "id": "589481d7",
   "metadata": {},
   "outputs": [],
   "source": [
    "countVectorizer = CountVectorizer(analyzer='word', ngram_range=(1,1))"
   ]
  },
  {
   "cell_type": "code",
   "execution_count": 46,
   "id": "d20856ab",
   "metadata": {},
   "outputs": [],
   "source": [
    "x = countVectorizer.fit_transform(clean_data1000)"
   ]
  },
  {
   "cell_type": "code",
   "execution_count": 47,
   "id": "5374c3d8",
   "metadata": {},
   "outputs": [],
   "source": [
    "occ = np.asarray(x.sum(axis=0)).ravel().tolist()"
   ]
  },
  {
   "cell_type": "code",
   "execution_count": 48,
   "id": "2f3f378f",
   "metadata": {},
   "outputs": [
    {
     "data": {
      "text/plain": [
       "782034"
      ]
     },
     "execution_count": 48,
     "metadata": {},
     "output_type": "execute_result"
    }
   ],
   "source": [
    "words_in_corpus = sum(occ)\n",
    "words_in_corpus"
   ]
  },
  {
   "cell_type": "code",
   "execution_count": 49,
   "id": "ea9ab05d",
   "metadata": {},
   "outputs": [],
   "source": [
    "counts = pd.DataFrame({'Term': countVectorizer.get_feature_names_out(), 'Occurences':occ})"
   ]
  },
  {
   "cell_type": "code",
   "execution_count": 50,
   "id": "739ccf5a",
   "metadata": {},
   "outputs": [
    {
     "data": {
      "text/html": [
       "<div>\n",
       "<style scoped>\n",
       "    .dataframe tbody tr th:only-of-type {\n",
       "        vertical-align: middle;\n",
       "    }\n",
       "\n",
       "    .dataframe tbody tr th {\n",
       "        vertical-align: top;\n",
       "    }\n",
       "\n",
       "    .dataframe thead th {\n",
       "        text-align: right;\n",
       "    }\n",
       "</style>\n",
       "<table border=\"1\" class=\"dataframe\">\n",
       "  <thead>\n",
       "    <tr style=\"text-align: right;\">\n",
       "      <th></th>\n",
       "      <th>Term</th>\n",
       "      <th>Occurences</th>\n",
       "    </tr>\n",
       "  </thead>\n",
       "  <tbody>\n",
       "    <tr>\n",
       "      <th>16588</th>\n",
       "      <td>student</td>\n",
       "      <td>17204</td>\n",
       "    </tr>\n",
       "    <tr>\n",
       "      <th>12718</th>\n",
       "      <td>people</td>\n",
       "      <td>15665</td>\n",
       "    </tr>\n",
       "    <tr>\n",
       "      <th>15121</th>\n",
       "      <td>school</td>\n",
       "      <td>14516</td>\n",
       "    </tr>\n",
       "    <tr>\n",
       "      <th>11874</th>\n",
       "      <td>nt</td>\n",
       "      <td>9695</td>\n",
       "    </tr>\n",
       "    <tr>\n",
       "      <th>17618</th>\n",
       "      <td>time</td>\n",
       "      <td>9306</td>\n",
       "    </tr>\n",
       "    <tr>\n",
       "      <th>...</th>\n",
       "      <td>...</td>\n",
       "      <td>...</td>\n",
       "    </tr>\n",
       "    <tr>\n",
       "      <th>1439</th>\n",
       "      <td>aspriration</td>\n",
       "      <td>1</td>\n",
       "    </tr>\n",
       "    <tr>\n",
       "      <th>9633</th>\n",
       "      <td>interfir</td>\n",
       "      <td>1</td>\n",
       "    </tr>\n",
       "    <tr>\n",
       "      <th>9634</th>\n",
       "      <td>interion</td>\n",
       "      <td>1</td>\n",
       "    </tr>\n",
       "    <tr>\n",
       "      <th>9638</th>\n",
       "      <td>internacional</td>\n",
       "      <td>1</td>\n",
       "    </tr>\n",
       "    <tr>\n",
       "      <th>19403</th>\n",
       "      <td>zurkrbuirg</td>\n",
       "      <td>1</td>\n",
       "    </tr>\n",
       "  </tbody>\n",
       "</table>\n",
       "<p>19404 rows × 2 columns</p>\n",
       "</div>"
      ],
      "text/plain": [
       "                Term  Occurences\n",
       "16588        student       17204\n",
       "12718         people       15665\n",
       "15121         school       14516\n",
       "11874             nt        9695\n",
       "17618           time        9306\n",
       "...              ...         ...\n",
       "1439     aspriration           1\n",
       "9633        interfir           1\n",
       "9634        interion           1\n",
       "9638   internacional           1\n",
       "19403     zurkrbuirg           1\n",
       "\n",
       "[19404 rows x 2 columns]"
      ]
     },
     "execution_count": 50,
     "metadata": {},
     "output_type": "execute_result"
    }
   ],
   "source": [
    "counts.sort_values(by='Occurences', ascending=False)"
   ]
  },
  {
   "cell_type": "markdown",
   "id": "f2b2ad41",
   "metadata": {},
   "source": [
    "## Top 30 weighted occured words"
   ]
  },
  {
   "cell_type": "code",
   "execution_count": 52,
   "id": "0e93f96b",
   "metadata": {},
   "outputs": [],
   "source": [
    "weights = vectors1000.toarray()\n",
    "vocab = vectorizer1000.get_feature_names_out()"
   ]
  },
  {
   "cell_type": "code",
   "execution_count": 53,
   "id": "3015dba6",
   "metadata": {},
   "outputs": [],
   "source": [
    "weights = np.asarray(weights.mean(axis=0)).ravel().tolist()"
   ]
  },
  {
   "cell_type": "code",
   "execution_count": 54,
   "id": "ad76fe3e",
   "metadata": {},
   "outputs": [],
   "source": [
    "weights_df = pd.DataFrame({'Term': vocab, 'Weight': weights})"
   ]
  },
  {
   "cell_type": "code",
   "execution_count": 55,
   "id": "d63d2c18",
   "metadata": {},
   "outputs": [
    {
     "data": {
      "text/html": [
       "<div>\n",
       "<style scoped>\n",
       "    .dataframe tbody tr th:only-of-type {\n",
       "        vertical-align: middle;\n",
       "    }\n",
       "\n",
       "    .dataframe tbody tr th {\n",
       "        vertical-align: top;\n",
       "    }\n",
       "\n",
       "    .dataframe thead th {\n",
       "        text-align: right;\n",
       "    }\n",
       "</style>\n",
       "<table border=\"1\" class=\"dataframe\">\n",
       "  <thead>\n",
       "    <tr style=\"text-align: right;\">\n",
       "      <th></th>\n",
       "      <th>Term</th>\n",
       "      <th>Weight</th>\n",
       "    </tr>\n",
       "  </thead>\n",
       "  <tbody>\n",
       "    <tr>\n",
       "      <th>153</th>\n",
       "      <td>student</td>\n",
       "      <td>0.141997</td>\n",
       "    </tr>\n",
       "    <tr>\n",
       "      <th>127</th>\n",
       "      <td>people</td>\n",
       "      <td>0.109778</td>\n",
       "    </tr>\n",
       "    <tr>\n",
       "      <th>140</th>\n",
       "      <td>school</td>\n",
       "      <td>0.106272</td>\n",
       "    </tr>\n",
       "    <tr>\n",
       "      <th>118</th>\n",
       "      <td>nt</td>\n",
       "      <td>0.073432</td>\n",
       "    </tr>\n",
       "    <tr>\n",
       "      <th>92</th>\n",
       "      <td>life</td>\n",
       "      <td>0.068621</td>\n",
       "    </tr>\n",
       "    <tr>\n",
       "      <th>183</th>\n",
       "      <td>work</td>\n",
       "      <td>0.065949</td>\n",
       "    </tr>\n",
       "    <tr>\n",
       "      <th>170</th>\n",
       "      <td>time</td>\n",
       "      <td>0.065825</td>\n",
       "    </tr>\n",
       "    <tr>\n",
       "      <th>186</th>\n",
       "      <td>would</td>\n",
       "      <td>0.063470</td>\n",
       "    </tr>\n",
       "    <tr>\n",
       "      <th>64</th>\n",
       "      <td>good</td>\n",
       "      <td>0.063169</td>\n",
       "    </tr>\n",
       "    <tr>\n",
       "      <th>58</th>\n",
       "      <td>get</td>\n",
       "      <td>0.062817</td>\n",
       "    </tr>\n",
       "    <tr>\n",
       "      <th>72</th>\n",
       "      <td>help</td>\n",
       "      <td>0.062456</td>\n",
       "    </tr>\n",
       "    <tr>\n",
       "      <th>93</th>\n",
       "      <td>like</td>\n",
       "      <td>0.061760</td>\n",
       "    </tr>\n",
       "    <tr>\n",
       "      <th>101</th>\n",
       "      <td>make</td>\n",
       "      <td>0.060668</td>\n",
       "    </tr>\n",
       "    <tr>\n",
       "      <th>25</th>\n",
       "      <td>class</td>\n",
       "      <td>0.059919</td>\n",
       "    </tr>\n",
       "    <tr>\n",
       "      <th>177</th>\n",
       "      <td>want</td>\n",
       "      <td>0.059426</td>\n",
       "    </tr>\n",
       "    <tr>\n",
       "      <th>166</th>\n",
       "      <td>thing</td>\n",
       "      <td>0.059189</td>\n",
       "    </tr>\n",
       "    <tr>\n",
       "      <th>167</th>\n",
       "      <td>think</td>\n",
       "      <td>0.052321</td>\n",
       "    </tr>\n",
       "    <tr>\n",
       "      <th>128</th>\n",
       "      <td>person</td>\n",
       "      <td>0.048539</td>\n",
       "    </tr>\n",
       "    <tr>\n",
       "      <th>119</th>\n",
       "      <td>one</td>\n",
       "      <td>0.047437</td>\n",
       "    </tr>\n",
       "    <tr>\n",
       "      <th>146</th>\n",
       "      <td>something</td>\n",
       "      <td>0.047359</td>\n",
       "    </tr>\n",
       "    <tr>\n",
       "      <th>113</th>\n",
       "      <td>need</td>\n",
       "      <td>0.045602</td>\n",
       "    </tr>\n",
       "    <tr>\n",
       "      <th>86</th>\n",
       "      <td>know</td>\n",
       "      <td>0.044363</td>\n",
       "    </tr>\n",
       "    <tr>\n",
       "      <th>5</th>\n",
       "      <td>also</td>\n",
       "      <td>0.044295</td>\n",
       "    </tr>\n",
       "    <tr>\n",
       "      <th>63</th>\n",
       "      <td>going</td>\n",
       "      <td>0.042392</td>\n",
       "    </tr>\n",
       "    <tr>\n",
       "      <th>30</th>\n",
       "      <td>day</td>\n",
       "      <td>0.042255</td>\n",
       "    </tr>\n",
       "    <tr>\n",
       "      <th>17</th>\n",
       "      <td>better</td>\n",
       "      <td>0.041697</td>\n",
       "    </tr>\n",
       "    <tr>\n",
       "      <th>179</th>\n",
       "      <td>way</td>\n",
       "      <td>0.041255</td>\n",
       "    </tr>\n",
       "    <tr>\n",
       "      <th>61</th>\n",
       "      <td>go</td>\n",
       "      <td>0.040965</td>\n",
       "    </tr>\n",
       "    <tr>\n",
       "      <th>45</th>\n",
       "      <td>example</td>\n",
       "      <td>0.040658</td>\n",
       "    </tr>\n",
       "    <tr>\n",
       "      <th>6</th>\n",
       "      <td>always</td>\n",
       "      <td>0.039906</td>\n",
       "    </tr>\n",
       "  </tbody>\n",
       "</table>\n",
       "</div>"
      ],
      "text/plain": [
       "          Term    Weight\n",
       "153    student  0.141997\n",
       "127     people  0.109778\n",
       "140     school  0.106272\n",
       "118         nt  0.073432\n",
       "92        life  0.068621\n",
       "183       work  0.065949\n",
       "170       time  0.065825\n",
       "186      would  0.063470\n",
       "64        good  0.063169\n",
       "58         get  0.062817\n",
       "72        help  0.062456\n",
       "93        like  0.061760\n",
       "101       make  0.060668\n",
       "25       class  0.059919\n",
       "177       want  0.059426\n",
       "166      thing  0.059189\n",
       "167      think  0.052321\n",
       "128     person  0.048539\n",
       "119        one  0.047437\n",
       "146  something  0.047359\n",
       "113       need  0.045602\n",
       "86        know  0.044363\n",
       "5         also  0.044295\n",
       "63       going  0.042392\n",
       "30         day  0.042255\n",
       "17      better  0.041697\n",
       "179        way  0.041255\n",
       "61          go  0.040965\n",
       "45     example  0.040658\n",
       "6       always  0.039906"
      ]
     },
     "execution_count": 55,
     "metadata": {},
     "output_type": "execute_result"
    }
   ],
   "source": [
    "weights_df.sort_values(by='Weight', ascending=False).head(30)"
   ]
  },
  {
   "cell_type": "markdown",
   "id": "f805cc46",
   "metadata": {},
   "source": [
    "#### Split data "
   ]
  },
  {
   "cell_type": "code",
   "execution_count": 196,
   "id": "ec1e3b42",
   "metadata": {},
   "outputs": [],
   "source": [
    "train_data10 = vectors10[:3800].toarray()"
   ]
  },
  {
   "cell_type": "code",
   "execution_count": 195,
   "id": "d4387495",
   "metadata": {},
   "outputs": [],
   "source": [
    "train_data50 = vectors50[:3800].toarray()"
   ]
  },
  {
   "cell_type": "code",
   "execution_count": null,
   "id": "c1b62629",
   "metadata": {},
   "outputs": [],
   "source": [
    "train_data100 = vectors100[:3800].toarray()"
   ]
  },
  {
   "cell_type": "code",
   "execution_count": 254,
   "id": "b8d8fc93",
   "metadata": {},
   "outputs": [],
   "source": [
    "train_data200 = vectors200[:3800].toarray()"
   ]
  },
  {
   "cell_type": "code",
   "execution_count": 56,
   "id": "1e431d64",
   "metadata": {},
   "outputs": [],
   "source": [
    "train_data1000 = vectors1000[:3800].toarray()"
   ]
  },
  {
   "cell_type": "code",
   "execution_count": 57,
   "id": "dbecc0ec",
   "metadata": {},
   "outputs": [],
   "source": [
    "train_data5000 = vectors5000[:3800].toarray()"
   ]
  },
  {
   "cell_type": "code",
   "execution_count": 219,
   "id": "802f61e6",
   "metadata": {},
   "outputs": [],
   "source": [
    "train_data20000 = vectors20000[:3800].toarray()"
   ]
  },
  {
   "cell_type": "code",
   "execution_count": 197,
   "id": "30649391",
   "metadata": {},
   "outputs": [],
   "source": [
    " validation_data10 = vectors10[3800:3910].toarray()"
   ]
  },
  {
   "cell_type": "code",
   "execution_count": 198,
   "id": "b498e8ce",
   "metadata": {},
   "outputs": [],
   "source": [
    "validation_data50 = vectors50[3800:3910].toarray()"
   ]
  },
  {
   "cell_type": "code",
   "execution_count": null,
   "id": "4f665c74",
   "metadata": {},
   "outputs": [],
   "source": [
    "validation_data100 = vectors100[3800:3910].toarray()"
   ]
  },
  {
   "cell_type": "code",
   "execution_count": 255,
   "id": "9d2178bb",
   "metadata": {},
   "outputs": [],
   "source": [
    "validation_data200 = vectors200[3800:3910].toarray()"
   ]
  },
  {
   "cell_type": "code",
   "execution_count": 58,
   "id": "c962ea6e",
   "metadata": {},
   "outputs": [],
   "source": [
    "validation_data1000 = vectors1000[3800:3910].toarray()"
   ]
  },
  {
   "cell_type": "code",
   "execution_count": 59,
   "id": "420f9f73",
   "metadata": {},
   "outputs": [],
   "source": [
    "validation_data5000 = vectors5000[3800:3910].toarray()"
   ]
  },
  {
   "cell_type": "code",
   "execution_count": 220,
   "id": "910be824",
   "metadata": {},
   "outputs": [],
   "source": [
    "validation_data20000 = vectors20000[3800:3910].toarray()"
   ]
  },
  {
   "cell_type": "code",
   "execution_count": 199,
   "id": "fffbfd8b",
   "metadata": {},
   "outputs": [],
   "source": [
    "x_train10 = train_data10"
   ]
  },
  {
   "cell_type": "code",
   "execution_count": 200,
   "id": "8e5ece0a",
   "metadata": {},
   "outputs": [],
   "source": [
    "x_train50 = train_data50"
   ]
  },
  {
   "cell_type": "code",
   "execution_count": null,
   "id": "03455ef0",
   "metadata": {},
   "outputs": [],
   "source": [
    "x_train100 = train_data100"
   ]
  },
  {
   "cell_type": "code",
   "execution_count": 256,
   "id": "6375e1b6",
   "metadata": {},
   "outputs": [],
   "source": [
    "x_train200 = train_data200"
   ]
  },
  {
   "cell_type": "code",
   "execution_count": 60,
   "id": "197d1056",
   "metadata": {},
   "outputs": [],
   "source": [
    "x_train1000 = train_data1000"
   ]
  },
  {
   "cell_type": "code",
   "execution_count": 61,
   "id": "8be07bad",
   "metadata": {},
   "outputs": [],
   "source": [
    "x_train5000 = train_data5000"
   ]
  },
  {
   "cell_type": "code",
   "execution_count": 221,
   "id": "8a4132ea",
   "metadata": {},
   "outputs": [],
   "source": [
    "x_train20000 = train_data20000"
   ]
  },
  {
   "cell_type": "code",
   "execution_count": 223,
   "id": "93d45750",
   "metadata": {},
   "outputs": [],
   "source": [
    "y_train = df['vocabulary'][:3800]"
   ]
  },
  {
   "cell_type": "code",
   "execution_count": 201,
   "id": "7e330713",
   "metadata": {},
   "outputs": [],
   "source": [
    "x_test10 = validation_data10"
   ]
  },
  {
   "cell_type": "code",
   "execution_count": 202,
   "id": "cc195722",
   "metadata": {},
   "outputs": [],
   "source": [
    "x_test50 = validation_data50"
   ]
  },
  {
   "cell_type": "code",
   "execution_count": null,
   "id": "d904f8f7",
   "metadata": {},
   "outputs": [],
   "source": [
    "x_test100 = validation_data100"
   ]
  },
  {
   "cell_type": "code",
   "execution_count": 257,
   "id": "b29ce092",
   "metadata": {},
   "outputs": [],
   "source": [
    "x_test200 = validation_data200"
   ]
  },
  {
   "cell_type": "code",
   "execution_count": 64,
   "id": "5f4431b9",
   "metadata": {},
   "outputs": [],
   "source": [
    "x_test1000 = validation_data1000"
   ]
  },
  {
   "cell_type": "code",
   "execution_count": 65,
   "id": "ae622295",
   "metadata": {},
   "outputs": [],
   "source": [
    "x_test5000 = validation_data5000"
   ]
  },
  {
   "cell_type": "code",
   "execution_count": 222,
   "id": "fd7ea77f",
   "metadata": {},
   "outputs": [],
   "source": [
    "x_test20000 = validation_data20000"
   ]
  },
  {
   "cell_type": "code",
   "execution_count": 400,
   "id": "4aec85fe",
   "metadata": {},
   "outputs": [
    {
     "data": {
      "text/plain": [
       "(110,)"
      ]
     },
     "execution_count": 400,
     "metadata": {},
     "output_type": "execute_result"
    }
   ],
   "source": [
    "y_test = df['vocabulary'][3800:3910]\n",
    "y_test.shape"
   ]
  },
  {
   "cell_type": "code",
   "execution_count": 401,
   "id": "503386f6",
   "metadata": {},
   "outputs": [],
   "source": [
    "y_train = (y_train * 2).astype(int)"
   ]
  },
  {
   "cell_type": "code",
   "execution_count": 402,
   "id": "0eb2ec82",
   "metadata": {},
   "outputs": [
    {
     "data": {
      "text/plain": [
       "(3800,)"
      ]
     },
     "execution_count": 402,
     "metadata": {},
     "output_type": "execute_result"
    }
   ],
   "source": [
    "y_train.shape"
   ]
  },
  {
   "cell_type": "code",
   "execution_count": 403,
   "id": "a514b49b",
   "metadata": {},
   "outputs": [
    {
     "data": {
      "text/plain": [
       "3800    5\n",
       "3801    5\n",
       "3802    7\n",
       "3803    8\n",
       "3804    6\n",
       "       ..\n",
       "3905    6\n",
       "3906    6\n",
       "3907    8\n",
       "3908    6\n",
       "3909    9\n",
       "Name: vocabulary, Length: 110, dtype: int64"
      ]
     },
     "execution_count": 403,
     "metadata": {},
     "output_type": "execute_result"
    }
   ],
   "source": [
    "y_test = (y_test * 2).astype(int)\n",
    "y_test"
   ]
  },
  {
   "cell_type": "code",
   "execution_count": null,
   "id": "7924b861",
   "metadata": {},
   "outputs": [],
   "source": []
  },
  {
   "cell_type": "markdown",
   "id": "8b3c3a1d",
   "metadata": {},
   "source": [
    "Pick indeces that have vocabulary rating > 5.5 and < 5.5"
   ]
  },
  {
   "cell_type": "code",
   "execution_count": 305,
   "id": "e3f9cf93",
   "metadata": {},
   "outputs": [],
   "source": [
    "positiveIndeces = []\n",
    "negativeIndeces = []\n",
    "for i in range(0, len(y_train)):\n",
    "    if y_train[i]>5.5:\n",
    "        positiveIndeces.append(i)\n",
    "    else:\n",
    "        negativeIndeces.append(i)"
   ]
  },
  {
   "cell_type": "code",
   "execution_count": 306,
   "id": "451ef30c",
   "metadata": {},
   "outputs": [
    {
     "data": {
      "text/plain": [
       "3148"
      ]
     },
     "execution_count": 306,
     "metadata": {},
     "output_type": "execute_result"
    }
   ],
   "source": [
    "len(positiveIndeces)"
   ]
  },
  {
   "cell_type": "code",
   "execution_count": 307,
   "id": "39330c4e",
   "metadata": {},
   "outputs": [
    {
     "data": {
      "text/plain": [
       "652"
      ]
     },
     "execution_count": 307,
     "metadata": {},
     "output_type": "execute_result"
    }
   ],
   "source": [
    "len(negativeIndeces)"
   ]
  },
  {
   "cell_type": "markdown",
   "id": "d3c22e16",
   "metadata": {},
   "source": [
    "Create a dataframe with 1s and 0s for higher and lower respectively. "
   ]
  },
  {
   "cell_type": "code",
   "execution_count": 308,
   "id": "b9cc2fe5",
   "metadata": {},
   "outputs": [],
   "source": [
    "positive_x_train = []\n",
    "negative_x_train = []\n",
    "for i in positiveIndeces:\n",
    "    positive_x_train.append(df['full_text'][i])\n",
    "for i in negativeIndeces:\n",
    "    negative_x_train.append(df['full_text'][i])"
   ]
  },
  {
   "cell_type": "code",
   "execution_count": 309,
   "id": "e53b5665",
   "metadata": {},
   "outputs": [
    {
     "data": {
      "text/plain": [
       "3148"
      ]
     },
     "execution_count": 309,
     "metadata": {},
     "output_type": "execute_result"
    }
   ],
   "source": [
    "len(positive_x_train)"
   ]
  },
  {
   "cell_type": "code",
   "execution_count": 310,
   "id": "84a432f9",
   "metadata": {},
   "outputs": [
    {
     "data": {
      "text/plain": [
       "652"
      ]
     },
     "execution_count": 310,
     "metadata": {},
     "output_type": "execute_result"
    }
   ],
   "source": [
    "len(negative_x_train)"
   ]
  },
  {
   "cell_type": "code",
   "execution_count": null,
   "id": "d179abe0",
   "metadata": {},
   "outputs": [],
   "source": []
  },
  {
   "cell_type": "markdown",
   "id": "feb6b078",
   "metadata": {},
   "source": [
    "First. Create a new x_train with 652 positive and 652 negative and train with the tfidf"
   ]
  },
  {
   "cell_type": "code",
   "execution_count": 347,
   "id": "d6f67381",
   "metadata": {},
   "outputs": [
    {
     "ename": "AttributeError",
     "evalue": "'list' object has no attribute 'toarray'",
     "output_type": "error",
     "traceback": [
      "\u001b[0;31m---------------------------------------------------------------------------\u001b[0m",
      "\u001b[0;31mAttributeError\u001b[0m                            Traceback (most recent call last)",
      "Input \u001b[0;32mIn [347]\u001b[0m, in \u001b[0;36m<cell line: 1>\u001b[0;34m()\u001b[0m\n\u001b[0;32m----> 1\u001b[0m positiveIndeces \u001b[38;5;241m=\u001b[39m \u001b[43mpositiveIndeces\u001b[49m\u001b[43m[\u001b[49m\u001b[43m:\u001b[49m\u001b[38;5;241;43m652\u001b[39;49m\u001b[43m]\u001b[49m\u001b[38;5;241;43m.\u001b[39;49m\u001b[43mtoarray\u001b[49m()\n",
      "\u001b[0;31mAttributeError\u001b[0m: 'list' object has no attribute 'toarray'"
     ]
    }
   ],
   "source": [
    "positiveIndeces = positiveIndeces[:652]"
   ]
  },
  {
   "cell_type": "code",
   "execution_count": 348,
   "id": "2fc7585d",
   "metadata": {},
   "outputs": [],
   "source": [
    "positiveIndeces = np.array(positiveIndeces)"
   ]
  },
  {
   "cell_type": "code",
   "execution_count": 349,
   "id": "f423ff38",
   "metadata": {},
   "outputs": [],
   "source": [
    "negativeIndeces = np.array(negativeIndeces)"
   ]
  },
  {
   "cell_type": "code",
   "execution_count": 354,
   "id": "2fa40a7f",
   "metadata": {},
   "outputs": [],
   "source": [
    "Indeces = np.concatenate((positiveIndeces, negativeIndeces), axis=0)"
   ]
  },
  {
   "cell_type": "code",
   "execution_count": 360,
   "id": "a77a9f8e",
   "metadata": {},
   "outputs": [],
   "source": [
    "Indeces = np.sort(Indeces)"
   ]
  },
  {
   "cell_type": "code",
   "execution_count": null,
   "id": "7aeb3051",
   "metadata": {},
   "outputs": [],
   "source": []
  },
  {
   "cell_type": "code",
   "execution_count": 364,
   "id": "ee81bd5c",
   "metadata": {},
   "outputs": [],
   "source": [
    "x_train_Vectors = []\n",
    "for i in Indeces:\n",
    "    x_train_Vectors.append(train_data200[i])"
   ]
  },
  {
   "cell_type": "code",
   "execution_count": 366,
   "id": "2183993b",
   "metadata": {},
   "outputs": [],
   "source": [
    "y_train_new = []\n",
    "for i in Indeces:\n",
    "    y_train_new.append(y_train[i])\n",
    "    "
   ]
  },
  {
   "cell_type": "code",
   "execution_count": 384,
   "id": "1d426cfe",
   "metadata": {},
   "outputs": [],
   "source": [
    "for i in range(0, len(y_train_new)):\n",
    "    if y_train_new[i] >5.5:\n",
    "        y_train_new[i] = 1\n",
    "    elif y_train_new[i] <5.5:\n",
    "        y_train_new[i] = 0\n",
    "    "
   ]
  },
  {
   "cell_type": "code",
   "execution_count": 385,
   "id": "35793d25",
   "metadata": {},
   "outputs": [
    {
     "data": {
      "text/plain": [
       "[1,\n",
       " 1,\n",
       " 1,\n",
       " 1,\n",
       " 1,\n",
       " 1,\n",
       " 1,\n",
       " 0,\n",
       " 1,\n",
       " 1,\n",
       " 1,\n",
       " 1,\n",
       " 1,\n",
       " 1,\n",
       " 1,\n",
       " 0,\n",
       " 1,\n",
       " 1,\n",
       " 1,\n",
       " 1,\n",
       " 1,\n",
       " 0,\n",
       " 1,\n",
       " 1,\n",
       " 1,\n",
       " 0,\n",
       " 0,\n",
       " 1,\n",
       " 0,\n",
       " 1,\n",
       " 1,\n",
       " 1,\n",
       " 1,\n",
       " 1,\n",
       " 1,\n",
       " 1,\n",
       " 1,\n",
       " 1,\n",
       " 1,\n",
       " 0,\n",
       " 1,\n",
       " 1,\n",
       " 0,\n",
       " 1,\n",
       " 1,\n",
       " 1,\n",
       " 1,\n",
       " 1,\n",
       " 0,\n",
       " 1,\n",
       " 1,\n",
       " 1,\n",
       " 1,\n",
       " 1,\n",
       " 1,\n",
       " 1,\n",
       " 1,\n",
       " 1,\n",
       " 1,\n",
       " 1,\n",
       " 1,\n",
       " 0,\n",
       " 0,\n",
       " 0,\n",
       " 1,\n",
       " 0,\n",
       " 0,\n",
       " 0,\n",
       " 1,\n",
       " 1,\n",
       " 1,\n",
       " 1,\n",
       " 1,\n",
       " 1,\n",
       " 1,\n",
       " 0,\n",
       " 1,\n",
       " 1,\n",
       " 1,\n",
       " 1,\n",
       " 1,\n",
       " 1,\n",
       " 1,\n",
       " 1,\n",
       " 1,\n",
       " 1,\n",
       " 1,\n",
       " 1,\n",
       " 0,\n",
       " 1,\n",
       " 1,\n",
       " 1,\n",
       " 1,\n",
       " 1,\n",
       " 0,\n",
       " 1,\n",
       " 0,\n",
       " 1,\n",
       " 1,\n",
       " 0,\n",
       " 1,\n",
       " 1,\n",
       " 1,\n",
       " 1,\n",
       " 1,\n",
       " 1,\n",
       " 1,\n",
       " 1,\n",
       " 1,\n",
       " 1,\n",
       " 1,\n",
       " 1,\n",
       " 1,\n",
       " 0,\n",
       " 0,\n",
       " 1,\n",
       " 1,\n",
       " 1,\n",
       " 1,\n",
       " 0,\n",
       " 1,\n",
       " 1,\n",
       " 1,\n",
       " 1,\n",
       " 1,\n",
       " 1,\n",
       " 1,\n",
       " 1,\n",
       " 1,\n",
       " 1,\n",
       " 1,\n",
       " 1,\n",
       " 0,\n",
       " 0,\n",
       " 0,\n",
       " 1,\n",
       " 1,\n",
       " 1,\n",
       " 1,\n",
       " 1,\n",
       " 1,\n",
       " 1,\n",
       " 1,\n",
       " 1,\n",
       " 1,\n",
       " 1,\n",
       " 1,\n",
       " 1,\n",
       " 1,\n",
       " 1,\n",
       " 1,\n",
       " 1,\n",
       " 0,\n",
       " 1,\n",
       " 1,\n",
       " 1,\n",
       " 1,\n",
       " 1,\n",
       " 1,\n",
       " 1,\n",
       " 1,\n",
       " 0,\n",
       " 1,\n",
       " 1,\n",
       " 1,\n",
       " 1,\n",
       " 0,\n",
       " 1,\n",
       " 1,\n",
       " 1,\n",
       " 0,\n",
       " 0,\n",
       " 1,\n",
       " 0,\n",
       " 1,\n",
       " 1,\n",
       " 0,\n",
       " 1,\n",
       " 0,\n",
       " 1,\n",
       " 1,\n",
       " 0,\n",
       " 1,\n",
       " 1,\n",
       " 1,\n",
       " 0,\n",
       " 0,\n",
       " 1,\n",
       " 1,\n",
       " 1,\n",
       " 1,\n",
       " 1,\n",
       " 1,\n",
       " 1,\n",
       " 1,\n",
       " 0,\n",
       " 1,\n",
       " 1,\n",
       " 0,\n",
       " 1,\n",
       " 1,\n",
       " 1,\n",
       " 1,\n",
       " 0,\n",
       " 1,\n",
       " 1,\n",
       " 1,\n",
       " 1,\n",
       " 1,\n",
       " 1,\n",
       " 1,\n",
       " 1,\n",
       " 0,\n",
       " 1,\n",
       " 1,\n",
       " 1,\n",
       " 1,\n",
       " 1,\n",
       " 1,\n",
       " 1,\n",
       " 1,\n",
       " 1,\n",
       " 1,\n",
       " 1,\n",
       " 1,\n",
       " 1,\n",
       " 1,\n",
       " 0,\n",
       " 0,\n",
       " 1,\n",
       " 1,\n",
       " 1,\n",
       " 1,\n",
       " 0,\n",
       " 1,\n",
       " 1,\n",
       " 1,\n",
       " 1,\n",
       " 1,\n",
       " 0,\n",
       " 1,\n",
       " 1,\n",
       " 1,\n",
       " 1,\n",
       " 1,\n",
       " 1,\n",
       " 1,\n",
       " 1,\n",
       " 1,\n",
       " 1,\n",
       " 1,\n",
       " 1,\n",
       " 1,\n",
       " 1,\n",
       " 0,\n",
       " 1,\n",
       " 1,\n",
       " 0,\n",
       " 1,\n",
       " 1,\n",
       " 1,\n",
       " 1,\n",
       " 1,\n",
       " 1,\n",
       " 1,\n",
       " 1,\n",
       " 1,\n",
       " 1,\n",
       " 1,\n",
       " 0,\n",
       " 1,\n",
       " 1,\n",
       " 0,\n",
       " 1,\n",
       " 1,\n",
       " 1,\n",
       " 1,\n",
       " 1,\n",
       " 1,\n",
       " 1,\n",
       " 1,\n",
       " 1,\n",
       " 1,\n",
       " 1,\n",
       " 1,\n",
       " 1,\n",
       " 1,\n",
       " 1,\n",
       " 1,\n",
       " 1,\n",
       " 0,\n",
       " 1,\n",
       " 1,\n",
       " 1,\n",
       " 1,\n",
       " 0,\n",
       " 1,\n",
       " 1,\n",
       " 1,\n",
       " 1,\n",
       " 1,\n",
       " 1,\n",
       " 1,\n",
       " 1,\n",
       " 1,\n",
       " 1,\n",
       " 1,\n",
       " 1,\n",
       " 1,\n",
       " 1,\n",
       " 0,\n",
       " 1,\n",
       " 1,\n",
       " 0,\n",
       " 0,\n",
       " 1,\n",
       " 1,\n",
       " 0,\n",
       " 1,\n",
       " 0,\n",
       " 1,\n",
       " 1,\n",
       " 1,\n",
       " 1,\n",
       " 1,\n",
       " 1,\n",
       " 1,\n",
       " 1,\n",
       " 1,\n",
       " 1,\n",
       " 1,\n",
       " 1,\n",
       " 1,\n",
       " 1,\n",
       " 1,\n",
       " 1,\n",
       " 1,\n",
       " 1,\n",
       " 1,\n",
       " 1,\n",
       " 0,\n",
       " 1,\n",
       " 0,\n",
       " 1,\n",
       " 1,\n",
       " 1,\n",
       " 0,\n",
       " 1,\n",
       " 0,\n",
       " 1,\n",
       " 1,\n",
       " 0,\n",
       " 1,\n",
       " 1,\n",
       " 0,\n",
       " 1,\n",
       " 1,\n",
       " 1,\n",
       " 1,\n",
       " 1,\n",
       " 0,\n",
       " 1,\n",
       " 1,\n",
       " 0,\n",
       " 0,\n",
       " 1,\n",
       " 1,\n",
       " 1,\n",
       " 0,\n",
       " 1,\n",
       " 0,\n",
       " 1,\n",
       " 1,\n",
       " 0,\n",
       " 1,\n",
       " 0,\n",
       " 1,\n",
       " 1,\n",
       " 0,\n",
       " 1,\n",
       " 1,\n",
       " 1,\n",
       " 1,\n",
       " 1,\n",
       " 1,\n",
       " 1,\n",
       " 1,\n",
       " 1,\n",
       " 0,\n",
       " 0,\n",
       " 1,\n",
       " 0,\n",
       " 1,\n",
       " 1,\n",
       " 1,\n",
       " 1,\n",
       " 1,\n",
       " 1,\n",
       " 1,\n",
       " 1,\n",
       " 1,\n",
       " 1,\n",
       " 1,\n",
       " 1,\n",
       " 1,\n",
       " 1,\n",
       " 1,\n",
       " 1,\n",
       " 1,\n",
       " 1,\n",
       " 1,\n",
       " 1,\n",
       " 1,\n",
       " 1,\n",
       " 0,\n",
       " 1,\n",
       " 1,\n",
       " 1,\n",
       " 1,\n",
       " 0,\n",
       " 1,\n",
       " 1,\n",
       " 1,\n",
       " 1,\n",
       " 0,\n",
       " 1,\n",
       " 1,\n",
       " 0,\n",
       " 1,\n",
       " 1,\n",
       " 1,\n",
       " 0,\n",
       " 1,\n",
       " 1,\n",
       " 1,\n",
       " 1,\n",
       " 1,\n",
       " 1,\n",
       " 1,\n",
       " 1,\n",
       " 1,\n",
       " 1,\n",
       " 1,\n",
       " 0,\n",
       " 1,\n",
       " 1,\n",
       " 1,\n",
       " 0,\n",
       " 1,\n",
       " 1,\n",
       " 1,\n",
       " 1,\n",
       " 1,\n",
       " 1,\n",
       " 1,\n",
       " 1,\n",
       " 1,\n",
       " 1,\n",
       " 1,\n",
       " 0,\n",
       " 1,\n",
       " 1,\n",
       " 1,\n",
       " 0,\n",
       " 1,\n",
       " 1,\n",
       " 0,\n",
       " 0,\n",
       " 1,\n",
       " 1,\n",
       " 0,\n",
       " 1,\n",
       " 1,\n",
       " 1,\n",
       " 1,\n",
       " 0,\n",
       " 1,\n",
       " 1,\n",
       " 1,\n",
       " 1,\n",
       " 1,\n",
       " 1,\n",
       " 1,\n",
       " 1,\n",
       " 1,\n",
       " 1,\n",
       " 1,\n",
       " 0,\n",
       " 1,\n",
       " 1,\n",
       " 1,\n",
       " 1,\n",
       " 1,\n",
       " 1,\n",
       " 0,\n",
       " 1,\n",
       " 1,\n",
       " 1,\n",
       " 0,\n",
       " 1,\n",
       " 1,\n",
       " 1,\n",
       " 1,\n",
       " 0,\n",
       " 1,\n",
       " 1,\n",
       " 1,\n",
       " 1,\n",
       " 1,\n",
       " 0,\n",
       " 1,\n",
       " 0,\n",
       " 1,\n",
       " 1,\n",
       " 0,\n",
       " 1,\n",
       " 1,\n",
       " 1,\n",
       " 1,\n",
       " 1,\n",
       " 1,\n",
       " 1,\n",
       " 1,\n",
       " 0,\n",
       " 1,\n",
       " 1,\n",
       " 1,\n",
       " 0,\n",
       " 1,\n",
       " 1,\n",
       " 0,\n",
       " 0,\n",
       " 1,\n",
       " 1,\n",
       " 1,\n",
       " 0,\n",
       " 1,\n",
       " 1,\n",
       " 1,\n",
       " 1,\n",
       " 1,\n",
       " 0,\n",
       " 1,\n",
       " 1,\n",
       " 1,\n",
       " 1,\n",
       " 1,\n",
       " 1,\n",
       " 1,\n",
       " 1,\n",
       " 1,\n",
       " 1,\n",
       " 0,\n",
       " 0,\n",
       " 1,\n",
       " 1,\n",
       " 1,\n",
       " 1,\n",
       " 1,\n",
       " 1,\n",
       " 0,\n",
       " 1,\n",
       " 1,\n",
       " 0,\n",
       " 0,\n",
       " 1,\n",
       " 0,\n",
       " 1,\n",
       " 1,\n",
       " 1,\n",
       " 1,\n",
       " 1,\n",
       " 1,\n",
       " 1,\n",
       " 1,\n",
       " 1,\n",
       " 1,\n",
       " 1,\n",
       " 1,\n",
       " 1,\n",
       " 1,\n",
       " 0,\n",
       " 1,\n",
       " 1,\n",
       " 1,\n",
       " 0,\n",
       " 1,\n",
       " 1,\n",
       " 1,\n",
       " 0,\n",
       " 0,\n",
       " 1,\n",
       " 1,\n",
       " 1,\n",
       " 1,\n",
       " 1,\n",
       " 0,\n",
       " 1,\n",
       " 1,\n",
       " 1,\n",
       " 1,\n",
       " 1,\n",
       " 1,\n",
       " 1,\n",
       " 1,\n",
       " 1,\n",
       " 1,\n",
       " 0,\n",
       " 1,\n",
       " 1,\n",
       " 1,\n",
       " 1,\n",
       " 0,\n",
       " 1,\n",
       " 1,\n",
       " 1,\n",
       " 1,\n",
       " 0,\n",
       " 0,\n",
       " 1,\n",
       " 1,\n",
       " 0,\n",
       " 0,\n",
       " 1,\n",
       " 1,\n",
       " 1,\n",
       " 1,\n",
       " 1,\n",
       " 1,\n",
       " 1,\n",
       " 1,\n",
       " 1,\n",
       " 1,\n",
       " 1,\n",
       " 0,\n",
       " 1,\n",
       " 0,\n",
       " 0,\n",
       " 1,\n",
       " 1,\n",
       " 1,\n",
       " 1,\n",
       " 0,\n",
       " 1,\n",
       " 0,\n",
       " 1,\n",
       " 1,\n",
       " 1,\n",
       " 1,\n",
       " 1,\n",
       " 1,\n",
       " 0,\n",
       " 1,\n",
       " 1,\n",
       " 1,\n",
       " 1,\n",
       " 1,\n",
       " 1,\n",
       " 1,\n",
       " 1,\n",
       " 1,\n",
       " 1,\n",
       " 1,\n",
       " 1,\n",
       " 1,\n",
       " 1,\n",
       " 1,\n",
       " 0,\n",
       " 1,\n",
       " 1,\n",
       " 1,\n",
       " 1,\n",
       " 1,\n",
       " 1,\n",
       " 0,\n",
       " 1,\n",
       " 1,\n",
       " 1,\n",
       " 1,\n",
       " 1,\n",
       " 0,\n",
       " 0,\n",
       " 1,\n",
       " 1,\n",
       " 1,\n",
       " 1,\n",
       " 1,\n",
       " 1,\n",
       " 1,\n",
       " 1,\n",
       " 1,\n",
       " 1,\n",
       " 1,\n",
       " 1,\n",
       " 0,\n",
       " 1,\n",
       " 1,\n",
       " 1,\n",
       " 1,\n",
       " 1,\n",
       " 1,\n",
       " 1,\n",
       " 1,\n",
       " 1,\n",
       " 1,\n",
       " 1,\n",
       " 1,\n",
       " 1,\n",
       " 1,\n",
       " 1,\n",
       " 0,\n",
       " 1,\n",
       " 1,\n",
       " 1,\n",
       " 1,\n",
       " 1,\n",
       " 1,\n",
       " 1,\n",
       " 1,\n",
       " 1,\n",
       " 1,\n",
       " 1,\n",
       " 1,\n",
       " 1,\n",
       " 1,\n",
       " 1,\n",
       " 1,\n",
       " 1,\n",
       " 1,\n",
       " 1,\n",
       " 1,\n",
       " 1,\n",
       " 1,\n",
       " 1,\n",
       " 0,\n",
       " 1,\n",
       " 1,\n",
       " 1,\n",
       " 1,\n",
       " 1,\n",
       " 1,\n",
       " 0,\n",
       " 1,\n",
       " 1,\n",
       " 1,\n",
       " 1,\n",
       " 1,\n",
       " 0,\n",
       " 1,\n",
       " 1,\n",
       " 1,\n",
       " 1,\n",
       " 1,\n",
       " 1,\n",
       " 1,\n",
       " 1,\n",
       " 1,\n",
       " 0,\n",
       " 1,\n",
       " 1,\n",
       " 0,\n",
       " 1,\n",
       " 1,\n",
       " 1,\n",
       " 1,\n",
       " 1,\n",
       " 1,\n",
       " 1,\n",
       " 1,\n",
       " 1,\n",
       " 1,\n",
       " 1,\n",
       " 1,\n",
       " 1,\n",
       " 1,\n",
       " 1,\n",
       " 1,\n",
       " 1,\n",
       " 1,\n",
       " 1,\n",
       " 1,\n",
       " 1,\n",
       " 1,\n",
       " 1,\n",
       " 1,\n",
       " 0,\n",
       " 0,\n",
       " 0,\n",
       " 0,\n",
       " 0,\n",
       " 0,\n",
       " 0,\n",
       " 0,\n",
       " 0,\n",
       " 0,\n",
       " 0,\n",
       " 0,\n",
       " 0,\n",
       " 0,\n",
       " 0,\n",
       " 0,\n",
       " 0,\n",
       " 0,\n",
       " 0,\n",
       " 0,\n",
       " 0,\n",
       " 0,\n",
       " 0,\n",
       " 0,\n",
       " 0,\n",
       " 0,\n",
       " 0,\n",
       " 0,\n",
       " 0,\n",
       " 0,\n",
       " 0,\n",
       " 0,\n",
       " 0,\n",
       " 0,\n",
       " 0,\n",
       " 0,\n",
       " 0,\n",
       " 0,\n",
       " 0,\n",
       " 0,\n",
       " 0,\n",
       " 0,\n",
       " 0,\n",
       " 0,\n",
       " 0,\n",
       " 0,\n",
       " 0,\n",
       " 0,\n",
       " 0,\n",
       " 0,\n",
       " 0,\n",
       " 0,\n",
       " 0,\n",
       " 0,\n",
       " 0,\n",
       " 0,\n",
       " 0,\n",
       " 0,\n",
       " 0,\n",
       " 0,\n",
       " 0,\n",
       " 0,\n",
       " 0,\n",
       " 0,\n",
       " 0,\n",
       " 0,\n",
       " 0,\n",
       " 0,\n",
       " 0,\n",
       " 0,\n",
       " 0,\n",
       " 0,\n",
       " 0,\n",
       " 0,\n",
       " 0,\n",
       " 0,\n",
       " 0,\n",
       " 0,\n",
       " 0,\n",
       " 0,\n",
       " 0,\n",
       " 0,\n",
       " 0,\n",
       " 0,\n",
       " 0,\n",
       " 0,\n",
       " 0,\n",
       " 0,\n",
       " 0,\n",
       " 0,\n",
       " 0,\n",
       " 0,\n",
       " 0,\n",
       " 0,\n",
       " 0,\n",
       " 0,\n",
       " 0,\n",
       " 0,\n",
       " 0,\n",
       " 0,\n",
       " 0,\n",
       " 0,\n",
       " 0,\n",
       " 0,\n",
       " 0,\n",
       " 0,\n",
       " 0,\n",
       " 0,\n",
       " 0,\n",
       " 0,\n",
       " 0,\n",
       " 0,\n",
       " 0,\n",
       " 0,\n",
       " 0,\n",
       " 0,\n",
       " 0,\n",
       " 0,\n",
       " 0,\n",
       " 0,\n",
       " 0,\n",
       " 0,\n",
       " 0,\n",
       " 0,\n",
       " 0,\n",
       " 0,\n",
       " 0,\n",
       " 0,\n",
       " 0,\n",
       " 0,\n",
       " 0,\n",
       " 0,\n",
       " 0,\n",
       " 0,\n",
       " 0,\n",
       " 0,\n",
       " 0,\n",
       " 0,\n",
       " 0,\n",
       " 0,\n",
       " 0,\n",
       " 0,\n",
       " 0,\n",
       " 0,\n",
       " 0,\n",
       " 0,\n",
       " 0,\n",
       " 0,\n",
       " 0,\n",
       " 0,\n",
       " 0,\n",
       " 0,\n",
       " 0,\n",
       " 0,\n",
       " 0,\n",
       " 0,\n",
       " 0,\n",
       " 0,\n",
       " 0,\n",
       " 0,\n",
       " 0,\n",
       " 0,\n",
       " 0,\n",
       " 0,\n",
       " 0,\n",
       " 0,\n",
       " 0,\n",
       " 0,\n",
       " 0,\n",
       " 0,\n",
       " 0,\n",
       " 0,\n",
       " 0,\n",
       " 0,\n",
       " 0,\n",
       " 0,\n",
       " 0,\n",
       " 0,\n",
       " 0,\n",
       " 0,\n",
       " 0,\n",
       " 0,\n",
       " 0,\n",
       " 0,\n",
       " 0,\n",
       " 0,\n",
       " 0,\n",
       " 0,\n",
       " 0,\n",
       " 0,\n",
       " 0,\n",
       " 0,\n",
       " 0,\n",
       " 0,\n",
       " 0,\n",
       " 0,\n",
       " 0,\n",
       " 0,\n",
       " 0,\n",
       " 0,\n",
       " 0,\n",
       " 0,\n",
       " 0,\n",
       " 0,\n",
       " 0,\n",
       " 0,\n",
       " 0,\n",
       " 0,\n",
       " 0,\n",
       " 0,\n",
       " 0,\n",
       " 0,\n",
       " 0,\n",
       " 0,\n",
       " 0,\n",
       " ...]"
      ]
     },
     "execution_count": 385,
     "metadata": {},
     "output_type": "execute_result"
    }
   ],
   "source": [
    "y_train_new"
   ]
  },
  {
   "cell_type": "markdown",
   "id": "6a4f4fd8",
   "metadata": {},
   "source": [
    "Populate x_train with vectors"
   ]
  },
  {
   "cell_type": "code",
   "execution_count": null,
   "id": "82ccf6b2",
   "metadata": {},
   "outputs": [],
   "source": []
  },
  {
   "cell_type": "code",
   "execution_count": 264,
   "id": "2532b173",
   "metadata": {},
   "outputs": [
    {
     "data": {
      "text/html": [
       "<div>\n",
       "<style scoped>\n",
       "    .dataframe tbody tr th:only-of-type {\n",
       "        vertical-align: middle;\n",
       "    }\n",
       "\n",
       "    .dataframe tbody tr th {\n",
       "        vertical-align: top;\n",
       "    }\n",
       "\n",
       "    .dataframe thead th {\n",
       "        text-align: right;\n",
       "    }\n",
       "</style>\n",
       "<table border=\"1\" class=\"dataframe\">\n",
       "  <thead>\n",
       "    <tr style=\"text-align: right;\">\n",
       "      <th></th>\n",
       "      <th>index</th>\n",
       "      <th>vectors</th>\n",
       "    </tr>\n",
       "  </thead>\n",
       "  <tbody>\n",
       "    <tr>\n",
       "      <th>0</th>\n",
       "      <td>None</td>\n",
       "      <td>None</td>\n",
       "    </tr>\n",
       "  </tbody>\n",
       "</table>\n",
       "</div>"
      ],
      "text/plain": [
       "  index vectors\n",
       "0  None    None"
      ]
     },
     "execution_count": 264,
     "metadata": {},
     "output_type": "execute_result"
    }
   ],
   "source": [
    "x_train"
   ]
  },
  {
   "cell_type": "code",
   "execution_count": null,
   "id": "647b8420",
   "metadata": {},
   "outputs": [],
   "source": []
  },
  {
   "cell_type": "raw",
   "id": "eadb99ec",
   "metadata": {},
   "source": [
    "indecesHigherThan55 = []\n",
    "indecesLowerThan55 = []\n",
    "for i in range(0,len(y_train)):\n",
    "    if y_train[i] > 5.5:\n",
    "        indecesHigherThan55.append(i)\n",
    "    else:\n",
    "        indecesLowerThan55.append(i)"
   ]
  },
  {
   "cell_type": "raw",
   "id": "03ccf60e",
   "metadata": {},
   "source": [
    "new_x_trainH = []\n",
    "for i in indecesHigherThan55:\n",
    "    new_x_train.append(x_train[i])"
   ]
  },
  {
   "cell_type": "raw",
   "id": "3333adde",
   "metadata": {},
   "source": [
    "new_y_trainH = []\n",
    "for i in indecesHigherThan55:\n",
    "    new_y_trainH.append(y_train[i])"
   ]
  },
  {
   "cell_type": "raw",
   "id": "f3a962f8",
   "metadata": {},
   "source": [
    "new_x_trainL = []\n",
    "for i in indecesLowerThan55:\n",
    "    new_x_trainL.append(x_train[i])"
   ]
  },
  {
   "cell_type": "raw",
   "id": "6df25d4f",
   "metadata": {},
   "source": [
    "new_y_trainL = []\n",
    "for i in indecesLowerThan55:\n",
    "    new_y_trainL.append(y_train[i])"
   ]
  },
  {
   "cell_type": "code",
   "execution_count": null,
   "id": "b7726065",
   "metadata": {},
   "outputs": [],
   "source": []
  },
  {
   "cell_type": "markdown",
   "id": "1feacbb2",
   "metadata": {},
   "source": [
    "#### Standard Scaler and squared x_train, x_test"
   ]
  },
  {
   "cell_type": "code",
   "execution_count": 71,
   "id": "4d840cf3",
   "metadata": {},
   "outputs": [],
   "source": [
    "from sklearn.preprocessing import StandardScaler"
   ]
  },
  {
   "cell_type": "code",
   "execution_count": 72,
   "id": "f3cc46b8",
   "metadata": {},
   "outputs": [],
   "source": [
    "scaler = StandardScaler()"
   ]
  },
  {
   "cell_type": "code",
   "execution_count": null,
   "id": "facee20b",
   "metadata": {},
   "outputs": [],
   "source": [
    "\n",
    "x_train50_scaled = scaler.fit_transform(x_train50)\n",
    "x_train100_scaled = scaler.fit_transform(x_train100)\n",
    "x_train200_scaled = scaler.fit_transform(x_train200)\n",
    "\n",
    "\n",
    "x_test50_scaled = scaler.fit_transform(x_test50)\n",
    "x_test100_scaled = scaler.fit_transform(x_test100)\n",
    "x_test200_scaled = scaler.fit_transform(x_test200)\n"
   ]
  },
  {
   "cell_type": "code",
   "execution_count": 73,
   "id": "161f52f4",
   "metadata": {},
   "outputs": [],
   "source": [
    "x_train1000_scaled = scaler.fit_transform(x_train1000)\n",
    "x_train5000_scaled = scaler.fit_transform(x_train5000)\n",
    "x_test1000_scaled = scaler.fit_transform(x_test1000)\n",
    "x_test5000_scaled = scaler.fit_transform(x_test5000)"
   ]
  },
  {
   "cell_type": "code",
   "execution_count": 1,
   "id": "900febf2",
   "metadata": {},
   "outputs": [
    {
     "ename": "NameError",
     "evalue": "name 'x_train50_scaled' is not defined",
     "output_type": "error",
     "traceback": [
      "\u001b[0;31m---------------------------------------------------------------------------\u001b[0m",
      "\u001b[0;31mNameError\u001b[0m                                 Traceback (most recent call last)",
      "Input \u001b[0;32mIn [1]\u001b[0m, in \u001b[0;36m<cell line: 1>\u001b[0;34m()\u001b[0m\n\u001b[0;32m----> 1\u001b[0m x_train50_scaled \u001b[38;5;241m=\u001b[39m \u001b[43mx_train50_scaled\u001b[49m\u001b[38;5;241m*\u001b[39m\u001b[38;5;241m*\u001b[39m\u001b[38;5;241m2\u001b[39m\n\u001b[1;32m      2\u001b[0m x_train100_scaled \u001b[38;5;241m=\u001b[39m x_train100_scaled\u001b[38;5;241m*\u001b[39m\u001b[38;5;241m*\u001b[39m\u001b[38;5;241m2\u001b[39m\n\u001b[1;32m      3\u001b[0m x_train200_scaled \u001b[38;5;241m=\u001b[39m x_train200_scaled\u001b[38;5;241m*\u001b[39m\u001b[38;5;241m*\u001b[39m\u001b[38;5;241m2\u001b[39m\n",
      "\u001b[0;31mNameError\u001b[0m: name 'x_train50_scaled' is not defined"
     ]
    }
   ],
   "source": [
    "x_train50_scaled = x_train50_scaled**2\n",
    "x_train100_scaled = x_train100_scaled**2\n",
    "x_train200_scaled = x_train200_scaled**2\n",
    "\n",
    "\n",
    "x_test50_scaled = x_test50_scaled**2\n",
    "x_test100_scaled = x_test100_scaled**2\n",
    "x_test200_scaled = x_test200_scaled**2\n",
    "x_test1000_scaled = x_test1000_scaled**2"
   ]
  },
  {
   "cell_type": "code",
   "execution_count": null,
   "id": "b2584f37",
   "metadata": {},
   "outputs": [],
   "source": [
    "x_train1000_scaled = x_train1000_scaled**2\n",
    "x_train5000_scaled = x_train5000_scaled**2\n",
    "x_test1000_scaled = x_test1000_scaled**2\n",
    "x_test5000_scaled = x_test5000_scaled**2"
   ]
  },
  {
   "cell_type": "markdown",
   "id": "4b0bb92e",
   "metadata": {},
   "source": [
    "Y_test multiplied by 2 to extend the scale"
   ]
  },
  {
   "cell_type": "code",
   "execution_count": null,
   "id": "31140a64",
   "metadata": {
    "scrolled": true
   },
   "outputs": [],
   "source": [
    "y_test[:3810]"
   ]
  },
  {
   "cell_type": "markdown",
   "id": "e234edad",
   "metadata": {},
   "source": [
    "## Models"
   ]
  },
  {
   "cell_type": "code",
   "execution_count": null,
   "id": "d9dfcb94",
   "metadata": {},
   "outputs": [],
   "source": [
    "# Import Libraries\n",
    "from sklearn import svm\n",
    "from sklearn.svm import LinearSVC\n",
    "from sklearn.pipeline import Pipeline\n",
    "from sklearn.linear_model import LogisticRegression, SGDClassifier\n",
    "from sklearn.metrics import classification_report\n",
    "from sklearn.preprocessing import PolynomialFeatures\n",
    "from sklearn import tree"
   ]
  },
  {
   "cell_type": "code",
   "execution_count": 394,
   "id": "77cc66dd",
   "metadata": {},
   "outputs": [],
   "source": [
    "def binary_accuracy(prediction, actual, train:bool):\n",
    "    tp = []\n",
    "    tn = []\n",
    "    fp = []\n",
    "    fn = []\n",
    "    if train:\n",
    "        for i in range(0, len(prediction)):\n",
    "            if prediction[i]>=5 & actual[i]>=5:\n",
    "                tp.append(1)\n",
    "            elif prediction[i]<=5 & actual[i]<=5:\n",
    "                tn.append(1)\n",
    "            elif prediction[i]<=5 & actual[i]>=5:\n",
    "                fn.append(1)\n",
    "            elif prediction[i]>=5 & actual[i]<=5:\n",
    "                fp.append(1)\n",
    "    else:\n",
    "        for i in range(0, len(prediction)):\n",
    "            if prediction[i]>=5 & actual[i+3800]>=5:\n",
    "                tp.append(1)\n",
    "            elif prediction[i]<=5 & actual[i+3800]<=5:\n",
    "                tn.append(1)\n",
    "            elif prediction[i]<=5 & actual[i+3800]>=5:\n",
    "                fn.append(1)\n",
    "            elif prediction[i]>=5 & actual[i+3800]<=5:\n",
    "                fp.append(1)\n",
    "        \n",
    "    tp = sum(tp)\n",
    "    tn = sum(tn)\n",
    "    fp = sum(fp)\n",
    "    fn = sum(fn)\n",
    "    \n",
    "    accuracy = (tp + tn) / (tp + tn + fp + fn)\n",
    "#     f1_score = (2 * tp) / (2*tp + fp + fn)\n",
    "    \n",
    "    return accuracy"
   ]
  },
  {
   "cell_type": "code",
   "execution_count": null,
   "id": "9db9e6ea",
   "metadata": {},
   "outputs": [],
   "source": [
    "poly_scaler = Pipeline([\n",
    "    ('poly_features', PolynomialFeatures(degree=10)),\n",
    "    ('std_scaler', StandardScaler())\n",
    "])"
   ]
  },
  {
   "cell_type": "markdown",
   "id": "7ed88b98",
   "metadata": {},
   "source": [
    "## Feature Selection"
   ]
  },
  {
   "cell_type": "code",
   "execution_count": 244,
   "id": "0998d1ba",
   "metadata": {},
   "outputs": [],
   "source": [
    "from mlxtend.feature_selection import SequentialFeatureSelector as sfs\n",
    "from sklearn.feature_selection import RFE"
   ]
  },
  {
   "cell_type": "markdown",
   "id": "f75f08c0",
   "metadata": {},
   "source": [
    "Implement Recursive Feature Selection SVM"
   ]
  },
  {
   "cell_type": "code",
   "execution_count": 243,
   "id": "6f95a530",
   "metadata": {},
   "outputs": [
    {
     "ename": "ValueError",
     "evalue": "Index data must be 1-dimensional",
     "output_type": "error",
     "traceback": [
      "\u001b[0;31m---------------------------------------------------------------------------\u001b[0m",
      "\u001b[0;31mValueError\u001b[0m                                Traceback (most recent call last)",
      "Input \u001b[0;32mIn [243]\u001b[0m, in \u001b[0;36m<cell line: 1>\u001b[0;34m()\u001b[0m\n\u001b[0;32m----> 1\u001b[0m x_train_df \u001b[38;5;241m=\u001b[39m \u001b[43mpd\u001b[49m\u001b[38;5;241;43m.\u001b[39;49m\u001b[43mDataFrame\u001b[49m\u001b[43m(\u001b[49m\u001b[43mx_train50\u001b[49m\u001b[43m,\u001b[49m\u001b[43m \u001b[49m\u001b[43mcolumns\u001b[49m\u001b[38;5;241;43m=\u001b[39;49m\u001b[43mx_train50\u001b[49m\u001b[43m)\u001b[49m\n",
      "File \u001b[0;32m~/anaconda3/lib/python3.9/site-packages/pandas/core/frame.py:694\u001b[0m, in \u001b[0;36mDataFrame.__init__\u001b[0;34m(self, data, index, columns, dtype, copy)\u001b[0m\n\u001b[1;32m    684\u001b[0m         mgr \u001b[38;5;241m=\u001b[39m dict_to_mgr(\n\u001b[1;32m    685\u001b[0m             \u001b[38;5;66;03m# error: Item \"ndarray\" of \"Union[ndarray, Series, Index]\" has no\u001b[39;00m\n\u001b[1;32m    686\u001b[0m             \u001b[38;5;66;03m# attribute \"name\"\u001b[39;00m\n\u001b[0;32m   (...)\u001b[0m\n\u001b[1;32m    691\u001b[0m             typ\u001b[38;5;241m=\u001b[39mmanager,\n\u001b[1;32m    692\u001b[0m         )\n\u001b[1;32m    693\u001b[0m     \u001b[38;5;28;01melse\u001b[39;00m:\n\u001b[0;32m--> 694\u001b[0m         mgr \u001b[38;5;241m=\u001b[39m \u001b[43mndarray_to_mgr\u001b[49m\u001b[43m(\u001b[49m\n\u001b[1;32m    695\u001b[0m \u001b[43m            \u001b[49m\u001b[43mdata\u001b[49m\u001b[43m,\u001b[49m\n\u001b[1;32m    696\u001b[0m \u001b[43m            \u001b[49m\u001b[43mindex\u001b[49m\u001b[43m,\u001b[49m\n\u001b[1;32m    697\u001b[0m \u001b[43m            \u001b[49m\u001b[43mcolumns\u001b[49m\u001b[43m,\u001b[49m\n\u001b[1;32m    698\u001b[0m \u001b[43m            \u001b[49m\u001b[43mdtype\u001b[49m\u001b[38;5;241;43m=\u001b[39;49m\u001b[43mdtype\u001b[49m\u001b[43m,\u001b[49m\n\u001b[1;32m    699\u001b[0m \u001b[43m            \u001b[49m\u001b[43mcopy\u001b[49m\u001b[38;5;241;43m=\u001b[39;49m\u001b[43mcopy\u001b[49m\u001b[43m,\u001b[49m\n\u001b[1;32m    700\u001b[0m \u001b[43m            \u001b[49m\u001b[43mtyp\u001b[49m\u001b[38;5;241;43m=\u001b[39;49m\u001b[43mmanager\u001b[49m\u001b[43m,\u001b[49m\n\u001b[1;32m    701\u001b[0m \u001b[43m        \u001b[49m\u001b[43m)\u001b[49m\n\u001b[1;32m    703\u001b[0m \u001b[38;5;66;03m# For data is list-like, or Iterable (will consume into list)\u001b[39;00m\n\u001b[1;32m    704\u001b[0m \u001b[38;5;28;01melif\u001b[39;00m is_list_like(data):\n",
      "File \u001b[0;32m~/anaconda3/lib/python3.9/site-packages/pandas/core/internals/construction.py:347\u001b[0m, in \u001b[0;36mndarray_to_mgr\u001b[0;34m(values, index, columns, dtype, copy, typ)\u001b[0m\n\u001b[1;32m    344\u001b[0m     values \u001b[38;5;241m=\u001b[39m values\u001b[38;5;241m.\u001b[39mreshape(shape)\n\u001b[1;32m    346\u001b[0m \u001b[38;5;66;03m# _prep_ndarray ensures that values.ndim == 2 at this point\u001b[39;00m\n\u001b[0;32m--> 347\u001b[0m index, columns \u001b[38;5;241m=\u001b[39m \u001b[43m_get_axes\u001b[49m\u001b[43m(\u001b[49m\n\u001b[1;32m    348\u001b[0m \u001b[43m    \u001b[49m\u001b[43mvalues\u001b[49m\u001b[38;5;241;43m.\u001b[39;49m\u001b[43mshape\u001b[49m\u001b[43m[\u001b[49m\u001b[38;5;241;43m0\u001b[39;49m\u001b[43m]\u001b[49m\u001b[43m,\u001b[49m\u001b[43m \u001b[49m\u001b[43mvalues\u001b[49m\u001b[38;5;241;43m.\u001b[39;49m\u001b[43mshape\u001b[49m\u001b[43m[\u001b[49m\u001b[38;5;241;43m1\u001b[39;49m\u001b[43m]\u001b[49m\u001b[43m,\u001b[49m\u001b[43m \u001b[49m\u001b[43mindex\u001b[49m\u001b[38;5;241;43m=\u001b[39;49m\u001b[43mindex\u001b[49m\u001b[43m,\u001b[49m\u001b[43m \u001b[49m\u001b[43mcolumns\u001b[49m\u001b[38;5;241;43m=\u001b[39;49m\u001b[43mcolumns\u001b[49m\n\u001b[1;32m    349\u001b[0m \u001b[43m\u001b[49m\u001b[43m)\u001b[49m\n\u001b[1;32m    351\u001b[0m _check_values_indices_shape_match(values, index, columns)\n\u001b[1;32m    353\u001b[0m \u001b[38;5;28;01mif\u001b[39;00m typ \u001b[38;5;241m==\u001b[39m \u001b[38;5;124m\"\u001b[39m\u001b[38;5;124marray\u001b[39m\u001b[38;5;124m\"\u001b[39m:\n",
      "File \u001b[0;32m~/anaconda3/lib/python3.9/site-packages/pandas/core/internals/construction.py:761\u001b[0m, in \u001b[0;36m_get_axes\u001b[0;34m(N, K, index, columns)\u001b[0m\n\u001b[1;32m    759\u001b[0m     columns \u001b[38;5;241m=\u001b[39m default_index(K)\n\u001b[1;32m    760\u001b[0m \u001b[38;5;28;01melse\u001b[39;00m:\n\u001b[0;32m--> 761\u001b[0m     columns \u001b[38;5;241m=\u001b[39m \u001b[43mensure_index\u001b[49m\u001b[43m(\u001b[49m\u001b[43mcolumns\u001b[49m\u001b[43m)\u001b[49m\n\u001b[1;32m    762\u001b[0m \u001b[38;5;28;01mreturn\u001b[39;00m index, columns\n",
      "File \u001b[0;32m~/anaconda3/lib/python3.9/site-packages/pandas/core/indexes/base.py:7043\u001b[0m, in \u001b[0;36mensure_index\u001b[0;34m(index_like, copy)\u001b[0m\n\u001b[1;32m   7041\u001b[0m         \u001b[38;5;28;01mreturn\u001b[39;00m Index\u001b[38;5;241m.\u001b[39m_with_infer(index_like, copy\u001b[38;5;241m=\u001b[39mcopy, tupleize_cols\u001b[38;5;241m=\u001b[39m\u001b[38;5;28;01mFalse\u001b[39;00m)\n\u001b[1;32m   7042\u001b[0m \u001b[38;5;28;01melse\u001b[39;00m:\n\u001b[0;32m-> 7043\u001b[0m     \u001b[38;5;28;01mreturn\u001b[39;00m \u001b[43mIndex\u001b[49m\u001b[38;5;241;43m.\u001b[39;49m\u001b[43m_with_infer\u001b[49m\u001b[43m(\u001b[49m\u001b[43mindex_like\u001b[49m\u001b[43m,\u001b[49m\u001b[43m \u001b[49m\u001b[43mcopy\u001b[49m\u001b[38;5;241;43m=\u001b[39;49m\u001b[43mcopy\u001b[49m\u001b[43m)\u001b[49m\n",
      "File \u001b[0;32m~/anaconda3/lib/python3.9/site-packages/pandas/core/indexes/base.py:680\u001b[0m, in \u001b[0;36mIndex._with_infer\u001b[0;34m(cls, *args, **kwargs)\u001b[0m\n\u001b[1;32m    678\u001b[0m \u001b[38;5;28;01mwith\u001b[39;00m warnings\u001b[38;5;241m.\u001b[39mcatch_warnings():\n\u001b[1;32m    679\u001b[0m     warnings\u001b[38;5;241m.\u001b[39mfilterwarnings(\u001b[38;5;124m\"\u001b[39m\u001b[38;5;124mignore\u001b[39m\u001b[38;5;124m\"\u001b[39m, \u001b[38;5;124m\"\u001b[39m\u001b[38;5;124m.*the Index constructor\u001b[39m\u001b[38;5;124m\"\u001b[39m, \u001b[38;5;167;01mFutureWarning\u001b[39;00m)\n\u001b[0;32m--> 680\u001b[0m     result \u001b[38;5;241m=\u001b[39m \u001b[38;5;28;43mcls\u001b[39;49m\u001b[43m(\u001b[49m\u001b[38;5;241;43m*\u001b[39;49m\u001b[43margs\u001b[49m\u001b[43m,\u001b[49m\u001b[43m \u001b[49m\u001b[38;5;241;43m*\u001b[39;49m\u001b[38;5;241;43m*\u001b[39;49m\u001b[43mkwargs\u001b[49m\u001b[43m)\u001b[49m\n\u001b[1;32m    682\u001b[0m \u001b[38;5;28;01mif\u001b[39;00m result\u001b[38;5;241m.\u001b[39mdtype \u001b[38;5;241m==\u001b[39m _dtype_obj \u001b[38;5;129;01mand\u001b[39;00m \u001b[38;5;129;01mnot\u001b[39;00m result\u001b[38;5;241m.\u001b[39m_is_multi:\n\u001b[1;32m    683\u001b[0m     \u001b[38;5;66;03m# error: Argument 1 to \"maybe_convert_objects\" has incompatible type\u001b[39;00m\n\u001b[1;32m    684\u001b[0m     \u001b[38;5;66;03m# \"Union[ExtensionArray, ndarray[Any, Any]]\"; expected\u001b[39;00m\n\u001b[1;32m    685\u001b[0m     \u001b[38;5;66;03m# \"ndarray[Any, Any]\"\u001b[39;00m\n\u001b[1;32m    686\u001b[0m     values \u001b[38;5;241m=\u001b[39m lib\u001b[38;5;241m.\u001b[39mmaybe_convert_objects(result\u001b[38;5;241m.\u001b[39m_values)  \u001b[38;5;66;03m# type: ignore[arg-type]\u001b[39;00m\n",
      "File \u001b[0;32m~/anaconda3/lib/python3.9/site-packages/pandas/core/indexes/base.py:503\u001b[0m, in \u001b[0;36mIndex.__new__\u001b[0;34m(cls, data, dtype, copy, name, tupleize_cols, **kwargs)\u001b[0m\n\u001b[1;32m    500\u001b[0m             \u001b[38;5;28;01mreturn\u001b[39;00m \u001b[38;5;28mcls\u001b[39m(arr, dtype, copy\u001b[38;5;241m=\u001b[39mcopy, name\u001b[38;5;241m=\u001b[39mname, \u001b[38;5;241m*\u001b[39m\u001b[38;5;241m*\u001b[39mkwargs)\n\u001b[1;32m    502\u001b[0m klass \u001b[38;5;241m=\u001b[39m \u001b[38;5;28mcls\u001b[39m\u001b[38;5;241m.\u001b[39m_dtype_to_subclass(arr\u001b[38;5;241m.\u001b[39mdtype)\n\u001b[0;32m--> 503\u001b[0m arr \u001b[38;5;241m=\u001b[39m \u001b[43mklass\u001b[49m\u001b[38;5;241;43m.\u001b[39;49m\u001b[43m_ensure_array\u001b[49m\u001b[43m(\u001b[49m\u001b[43marr\u001b[49m\u001b[43m,\u001b[49m\u001b[43m \u001b[49m\u001b[43mdtype\u001b[49m\u001b[43m,\u001b[49m\u001b[43m \u001b[49m\u001b[43mcopy\u001b[49m\u001b[43m)\u001b[49m\n\u001b[1;32m    504\u001b[0m disallow_kwargs(kwargs)\n\u001b[1;32m    505\u001b[0m \u001b[38;5;28;01mreturn\u001b[39;00m klass\u001b[38;5;241m.\u001b[39m_simple_new(arr, name)\n",
      "File \u001b[0;32m~/anaconda3/lib/python3.9/site-packages/pandas/core/indexes/numeric.py:183\u001b[0m, in \u001b[0;36mNumericIndex._ensure_array\u001b[0;34m(cls, data, dtype, copy)\u001b[0m\n\u001b[1;32m    179\u001b[0m     subarr \u001b[38;5;241m=\u001b[39m data\n\u001b[1;32m    181\u001b[0m \u001b[38;5;28;01mif\u001b[39;00m subarr\u001b[38;5;241m.\u001b[39mndim \u001b[38;5;241m>\u001b[39m \u001b[38;5;241m1\u001b[39m:\n\u001b[1;32m    182\u001b[0m     \u001b[38;5;66;03m# GH#13601, GH#20285, GH#27125\u001b[39;00m\n\u001b[0;32m--> 183\u001b[0m     \u001b[38;5;28;01mraise\u001b[39;00m \u001b[38;5;167;01mValueError\u001b[39;00m(\u001b[38;5;124m\"\u001b[39m\u001b[38;5;124mIndex data must be 1-dimensional\u001b[39m\u001b[38;5;124m\"\u001b[39m)\n\u001b[1;32m    185\u001b[0m subarr \u001b[38;5;241m=\u001b[39m np\u001b[38;5;241m.\u001b[39masarray(subarr)\n\u001b[1;32m    186\u001b[0m \u001b[38;5;28;01mreturn\u001b[39;00m subarr\n",
      "\u001b[0;31mValueError\u001b[0m: Index data must be 1-dimensional"
     ]
    }
   ],
   "source": [
    "x_train_df = pd.DataFrame(x_train50, columns=x_train50)"
   ]
  },
  {
   "cell_type": "code",
   "execution_count": null,
   "id": "04e5380f",
   "metadata": {},
   "outputs": [],
   "source": []
  },
  {
   "cell_type": "markdown",
   "id": "1f4ecc4a",
   "metadata": {},
   "source": [
    "Pearson's Correlation Coefficient"
   ]
  },
  {
   "cell_type": "code",
   "execution_count": 187,
   "id": "999fa0b7",
   "metadata": {},
   "outputs": [],
   "source": [
    "from sklearn.feature_selection import f_regression"
   ]
  },
  {
   "cell_type": "code",
   "execution_count": 236,
   "id": "838fb578",
   "metadata": {},
   "outputs": [],
   "source": [
    "x_selected = f_regression(x_train10, y_train)"
   ]
  },
  {
   "cell_type": "code",
   "execution_count": 237,
   "id": "a5688bba",
   "metadata": {
    "scrolled": true
   },
   "outputs": [
    {
     "data": {
      "text/plain": [
       "(2, 10)"
      ]
     },
     "execution_count": 237,
     "metadata": {},
     "output_type": "execute_result"
    }
   ],
   "source": [
    "np.array(x_selected).shape"
   ]
  },
  {
   "cell_type": "code",
   "execution_count": 411,
   "id": "ca5cb1d8",
   "metadata": {},
   "outputs": [
    {
     "ename": "AttributeError",
     "evalue": "'tuple' object has no attribute 'shape'",
     "output_type": "error",
     "traceback": [
      "\u001b[0;31m---------------------------------------------------------------------------\u001b[0m",
      "\u001b[0;31mAttributeError\u001b[0m                            Traceback (most recent call last)",
      "Input \u001b[0;32mIn [411]\u001b[0m, in \u001b[0;36m<cell line: 1>\u001b[0;34m()\u001b[0m\n\u001b[0;32m----> 1\u001b[0m \u001b[43mx_selected\u001b[49m\u001b[38;5;241;43m.\u001b[39;49m\u001b[43mshape\u001b[49m\n",
      "\u001b[0;31mAttributeError\u001b[0m: 'tuple' object has no attribute 'shape'"
     ]
    }
   ],
   "source": [
    "x_selected.shape"
   ]
  },
  {
   "cell_type": "markdown",
   "id": "438e404f",
   "metadata": {},
   "source": [
    "#### Logistic Regression"
   ]
  },
  {
   "cell_type": "code",
   "execution_count": null,
   "id": "8afc86f4",
   "metadata": {},
   "outputs": [],
   "source": [
    "log_model = LogisticRegression(max_iter=1400, multi_class='multinomial', class_weight='balanced', solver='newton-cg', C=1)"
   ]
  },
  {
   "cell_type": "code",
   "execution_count": null,
   "id": "ea55467e",
   "metadata": {},
   "outputs": [],
   "source": [
    "log_model.fit(x_train50_scaled, y_train)"
   ]
  },
  {
   "cell_type": "code",
   "execution_count": null,
   "id": "3a4b2b1f",
   "metadata": {},
   "outputs": [],
   "source": [
    "# Training accuracy\n",
    "y_pred_train = log_model.predict(x_train50_scaled)\n",
    "print(y_pred_train.shape)\n",
    "print(y_train.shape)\n",
    "print('Accuracy of Training Data: ', binary_accuracy(y_pred_train, y_train, True)*100)"
   ]
  },
  {
   "cell_type": "code",
   "execution_count": null,
   "id": "caec29cd",
   "metadata": {},
   "outputs": [],
   "source": [
    "# Test accuracy \n",
    "y_pred_test = log_model.predict(x_test50_scaled)\n",
    "print(y_pred_test.shape)\n",
    "print(y_test.shape)\n",
    "print('Accuracy of Test Data: ', binary_accuracy(y_pred_test, y_test, False)*100)"
   ]
  },
  {
   "cell_type": "code",
   "execution_count": null,
   "id": "4321001d",
   "metadata": {},
   "outputs": [],
   "source": []
  },
  {
   "cell_type": "code",
   "execution_count": null,
   "id": "bc784c51",
   "metadata": {},
   "outputs": [],
   "source": []
  },
  {
   "cell_type": "code",
   "execution_count": null,
   "id": "fa2a83cc",
   "metadata": {
    "scrolled": true
   },
   "outputs": [],
   "source": [
    "log_model.fit(x_train5000_scaled, y_train)"
   ]
  },
  {
   "cell_type": "code",
   "execution_count": null,
   "id": "c1269ed8",
   "metadata": {},
   "outputs": [],
   "source": [
    "y_pred_train = log_model.predict(x_train5000_scaled)\n",
    "print('Accuracy of Train Data: ', binary_accuracy(y_pred_train, y_train, True)*100)"
   ]
  },
  {
   "cell_type": "code",
   "execution_count": null,
   "id": "6ca498e4",
   "metadata": {},
   "outputs": [],
   "source": []
  },
  {
   "cell_type": "markdown",
   "id": "8a1ef68d",
   "metadata": {},
   "source": [
    "#### SGDClassifier"
   ]
  },
  {
   "cell_type": "code",
   "execution_count": null,
   "id": "b8051fe7",
   "metadata": {},
   "outputs": [],
   "source": [
    "sgdC = SGDClassifier(loss='hinge')"
   ]
  },
  {
   "cell_type": "code",
   "execution_count": null,
   "id": "378b61f2",
   "metadata": {},
   "outputs": [],
   "source": [
    "sgdC.fit(x_train100, y_train)"
   ]
  },
  {
   "cell_type": "code",
   "execution_count": null,
   "id": "e30ae7c4",
   "metadata": {},
   "outputs": [],
   "source": [
    "sgdC_prediction = sgdC.predict(x_train100)\n",
    "print('Accuracy of Test Data: ', binary_accuracy(sgdC_prediction, y_train, True)*100)"
   ]
  },
  {
   "cell_type": "code",
   "execution_count": null,
   "id": "561f4b24",
   "metadata": {},
   "outputs": [],
   "source": [
    "sgdC_prediction = sgdC.predict(x_test100)\n",
    "print('Accuracy of Test Data: ', binary_accuracy(y_pred_test, y_test, False)*100)"
   ]
  },
  {
   "cell_type": "markdown",
   "id": "1c04166f",
   "metadata": {},
   "source": [
    "#### Decision Tree"
   ]
  },
  {
   "cell_type": "code",
   "execution_count": null,
   "id": "55c05228",
   "metadata": {},
   "outputs": [],
   "source": [
    "decisionTree = tree.DecisionTreeClassifier()"
   ]
  },
  {
   "cell_type": "code",
   "execution_count": null,
   "id": "ab6d5854",
   "metadata": {},
   "outputs": [],
   "source": [
    "decisionTree.fit(x_train100_scaled, y_train)"
   ]
  },
  {
   "cell_type": "code",
   "execution_count": null,
   "id": "7cb28c74",
   "metadata": {},
   "outputs": [],
   "source": [
    "tree_prediction = decisionTree.predict(x_train100_scaled)\n",
    "\n",
    "print('Accuracy of Test Data: ', binary_accuracy(tree_prediction, y_train, True)*100)"
   ]
  },
  {
   "cell_type": "code",
   "execution_count": null,
   "id": "6b3dde09",
   "metadata": {},
   "outputs": [],
   "source": [
    "tree_prediction = decisionTree.predict(x_test100_scaled)\n",
    "print('Accuracy of Test Data: ', binary_accuracy(tree_prediction, y_test, False)*100)"
   ]
  },
  {
   "cell_type": "code",
   "execution_count": null,
   "id": "e4a951d8",
   "metadata": {},
   "outputs": [],
   "source": []
  },
  {
   "cell_type": "code",
   "execution_count": null,
   "id": "d54c2848",
   "metadata": {},
   "outputs": [],
   "source": [
    "decisionTree.fit(x_train1000, y_train)\n",
    "\n",
    "\n",
    "tree_prediction = decisionTree.predict(x_train1000)\n",
    "\n",
    "print('Accuracy of Test Data: ', binary_accuracy(tree_prediction, y_train, True)* 100)"
   ]
  },
  {
   "cell_type": "code",
   "execution_count": null,
   "id": "ec6313a6",
   "metadata": {},
   "outputs": [],
   "source": []
  },
  {
   "cell_type": "code",
   "execution_count": null,
   "id": "a17a7198",
   "metadata": {},
   "outputs": [],
   "source": []
  },
  {
   "cell_type": "code",
   "execution_count": null,
   "id": "c3bd3c83",
   "metadata": {},
   "outputs": [],
   "source": []
  },
  {
   "cell_type": "markdown",
   "id": "96c16f34",
   "metadata": {},
   "source": [
    "LinearSVC. StandardScaler"
   ]
  },
  {
   "cell_type": "code",
   "execution_count": 373,
   "id": "2d67fdbb",
   "metadata": {},
   "outputs": [],
   "source": [
    "from sklearn import svm"
   ]
  },
  {
   "cell_type": "code",
   "execution_count": 386,
   "id": "115a449b",
   "metadata": {},
   "outputs": [],
   "source": [
    "linearSVC = Pipeline([\n",
    "    ('linear_svc', svm.LinearSVC())\n",
    "])"
   ]
  },
  {
   "cell_type": "code",
   "execution_count": 387,
   "id": "618fdf72",
   "metadata": {
    "scrolled": true
   },
   "outputs": [
    {
     "data": {
      "text/plain": [
       "Pipeline(steps=[('linear_svc', LinearSVC())])"
      ]
     },
     "execution_count": 387,
     "metadata": {},
     "output_type": "execute_result"
    }
   ],
   "source": [
    "linearSVC.fit(x_train_Vectors, y_train_new)"
   ]
  },
  {
   "cell_type": "code",
   "execution_count": 388,
   "id": "59925f53",
   "metadata": {
    "scrolled": true
   },
   "outputs": [
    {
     "data": {
      "text/plain": [
       "array([0, 0, 1, ..., 0, 0, 0])"
      ]
     },
     "execution_count": 388,
     "metadata": {},
     "output_type": "execute_result"
    }
   ],
   "source": [
    "predictLSVC = linearSVC.predict(x_train_Vectors)\n",
    "predictLSVC"
   ]
  },
  {
   "cell_type": "code",
   "execution_count": 389,
   "id": "6dbb5d51",
   "metadata": {},
   "outputs": [
    {
     "name": "stdout",
     "output_type": "stream",
     "text": [
      "Accuracy Score:  87.0398773006135\n"
     ]
    }
   ],
   "source": [
    "print('Accuracy Score: ', binary_accuracy(predictLSVC, y_train_new, True)*100)"
   ]
  },
  {
   "cell_type": "markdown",
   "id": "75242f5b",
   "metadata": {},
   "source": [
    "Naive Bayes"
   ]
  },
  {
   "cell_type": "code",
   "execution_count": 143,
   "id": "98a0296d",
   "metadata": {},
   "outputs": [],
   "source": [
    "from sklearn.naive_bayes import MultinomialNB\n",
    "from sklearn.metrics import accuracy_score"
   ]
  },
  {
   "cell_type": "code",
   "execution_count": null,
   "id": "f290a512",
   "metadata": {},
   "outputs": [],
   "source": [
    "naive = MultinomialNB()"
   ]
  },
  {
   "cell_type": "code",
   "execution_count": null,
   "id": "4f196b72",
   "metadata": {
    "scrolled": true
   },
   "outputs": [],
   "source": [
    "naive.fit(x_train_scaled, y_train)"
   ]
  },
  {
   "cell_type": "code",
   "execution_count": null,
   "id": "0fc97f1b",
   "metadata": {},
   "outputs": [],
   "source": [
    "prediction_NB = naive.predict(x_test_scaled)"
   ]
  },
  {
   "cell_type": "code",
   "execution_count": null,
   "id": "473505a9",
   "metadata": {},
   "outputs": [],
   "source": [
    "print('Naive Bayes Accuracy Score: ', accuracy_score(prediction_NB, y_test)*100)"
   ]
  },
  {
   "cell_type": "markdown",
   "id": "387b49b9",
   "metadata": {},
   "source": [
    "Non-linear SVM. PolynomialFeatures, StandradScaler"
   ]
  },
  {
   "cell_type": "code",
   "execution_count": null,
   "id": "e2a5e9e8",
   "metadata": {},
   "outputs": [],
   "source": []
  },
  {
   "cell_type": "markdown",
   "id": "e8d5adee",
   "metadata": {},
   "source": [
    "Polynomial kernel. StandardScaler"
   ]
  },
  {
   "cell_type": "code",
   "execution_count": null,
   "id": "aa98174a",
   "metadata": {},
   "outputs": [],
   "source": []
  },
  {
   "cell_type": "markdown",
   "id": "f3b675fd",
   "metadata": {},
   "source": [
    " Gaussian Kernel. StandardScaler"
   ]
  },
  {
   "cell_type": "code",
   "execution_count": null,
   "id": "176d2ee2",
   "metadata": {},
   "outputs": [],
   "source": [
    "from mlxtend.plotting import plot_decision_regions"
   ]
  },
  {
   "cell_type": "code",
   "execution_count": null,
   "id": "0376f0a2",
   "metadata": {},
   "outputs": [],
   "source": [
    "from sklearn.multiclass import OneVsRestClassifier"
   ]
  },
  {
   "cell_type": "code",
   "execution_count": null,
   "id": "64b6403b",
   "metadata": {},
   "outputs": [],
   "source": [
    "onevsrest = OneVsRestClassifier(svm.SVC(kernel='rbf', gamma=2, C=10))\n",
    "onevsrest.fit(x_train5000_scaled, y_train)"
   ]
  },
  {
   "cell_type": "code",
   "execution_count": null,
   "id": "1df1c858",
   "metadata": {
    "scrolled": true
   },
   "outputs": [],
   "source": [
    "onevsrestPred = onevsrest.predict(x_train5000_scaled)\n",
    "onevsrestPred\n",
    "print('Accuracy : ', binary_accuracy(x_train5000_scaled, y_train, True)*100)"
   ]
  },
  {
   "cell_type": "code",
   "execution_count": null,
   "id": "06c868af",
   "metadata": {
    "scrolled": true
   },
   "outputs": [],
   "source": []
  },
  {
   "cell_type": "code",
   "execution_count": null,
   "id": "85d958d1",
   "metadata": {},
   "outputs": [],
   "source": []
  },
  {
   "cell_type": "code",
   "execution_count": 390,
   "id": "a6952b08",
   "metadata": {},
   "outputs": [],
   "source": [
    "svm_clf = svm.SVC(kernel='poly', degree=13, coef0=1, C=5)\n"
   ]
  },
  {
   "cell_type": "code",
   "execution_count": 391,
   "id": "59aaeac8",
   "metadata": {},
   "outputs": [
    {
     "data": {
      "text/plain": [
       "SVC(C=5, coef0=1, degree=13, kernel='poly')"
      ]
     },
     "execution_count": 391,
     "metadata": {},
     "output_type": "execute_result"
    }
   ],
   "source": [
    "svm_clf.fit(x_train_Vectors, y_train_new)"
   ]
  },
  {
   "cell_type": "code",
   "execution_count": 404,
   "id": "3a65ab55",
   "metadata": {
    "scrolled": true
   },
   "outputs": [
    {
     "data": {
      "text/plain": [
       "array([1])"
      ]
     },
     "execution_count": 404,
     "metadata": {},
     "output_type": "execute_result"
    }
   ],
   "source": [
    "predictionSVM = svm_clf.predict(x_test200[5].reshape(1,-1))\n",
    "predictionSVM\n"
   ]
  },
  {
   "cell_type": "code",
   "execution_count": 410,
   "id": "dad2da23",
   "metadata": {},
   "outputs": [
    {
     "data": {
      "text/plain": [
       "8"
      ]
     },
     "execution_count": 410,
     "metadata": {},
     "output_type": "execute_result"
    }
   ],
   "source": [
    "y_test[3805]"
   ]
  },
  {
   "cell_type": "code",
   "execution_count": 395,
   "id": "ba5cbba4",
   "metadata": {
    "scrolled": true
   },
   "outputs": [
    {
     "name": "stdout",
     "output_type": "stream",
     "text": [
      "SVM Accuracy Score:  100.0\n"
     ]
    }
   ],
   "source": [
    "print('SVM Accuracy Score: ', binary_accuracy(predictionSVM, y_train_new, True)*100)"
   ]
  },
  {
   "cell_type": "code",
   "execution_count": null,
   "id": "1453dc28",
   "metadata": {},
   "outputs": [],
   "source": [
    "from sklearn.svm import LinearSVC"
   ]
  },
  {
   "cell_type": "code",
   "execution_count": null,
   "id": "ca129941",
   "metadata": {},
   "outputs": [],
   "source": [
    "linearSVC = LinearSVC()"
   ]
  },
  {
   "cell_type": "code",
   "execution_count": null,
   "id": "e4b5d674",
   "metadata": {},
   "outputs": [],
   "source": []
  },
  {
   "cell_type": "code",
   "execution_count": null,
   "id": "29243586",
   "metadata": {},
   "outputs": [],
   "source": []
  },
  {
   "cell_type": "code",
   "execution_count": null,
   "id": "7967c80b",
   "metadata": {},
   "outputs": [],
   "source": [
    "\n",
    "# Validation data vocabulary\n",
    "\n",
    "# Transform train data to useful values\n",
    "# x_train = (vectors1[:3500].toarray() * 10000).astype(int)\n",
    "# y_train = (y_train1[:3500] * 2).astype(int)\n",
    "\n",
    "clf = svm.SVC(kernel='rbf', gamma=0.1, C=0.01)\n",
    "# clf.fit(x_train, y_train)\n"
   ]
  },
  {
   "cell_type": "code",
   "execution_count": null,
   "id": "f3f8553d",
   "metadata": {},
   "outputs": [],
   "source": [
    "x_train.shape"
   ]
  },
  {
   "cell_type": "code",
   "execution_count": null,
   "id": "08d95334",
   "metadata": {
    "scrolled": true
   },
   "outputs": [],
   "source": []
  },
  {
   "cell_type": "code",
   "execution_count": null,
   "id": "1f9c0f16",
   "metadata": {
    "scrolled": true
   },
   "outputs": [],
   "source": []
  },
  {
   "cell_type": "code",
   "execution_count": null,
   "id": "f21644e3",
   "metadata": {},
   "outputs": [],
   "source": []
  },
  {
   "cell_type": "code",
   "execution_count": null,
   "id": "02f4089b",
   "metadata": {},
   "outputs": [],
   "source": []
  },
  {
   "cell_type": "code",
   "execution_count": null,
   "id": "07a2572f",
   "metadata": {},
   "outputs": [],
   "source": [
    "x_test = tf_idf(validation_data['full_text'])\n",
    "x_test = (x_test.toarray() * 10000).astype(int)\n",
    "x_test"
   ]
  },
  {
   "cell_type": "code",
   "execution_count": null,
   "id": "55275cea",
   "metadata": {},
   "outputs": [],
   "source": [
    "\n",
    "from sklearn.model_selection import GridSearchCV\n",
    "\n",
    "scaler = StandardScaler()\n",
    "x_train_scaled = scaler.fit_transform(x_train)\n",
    "x_test_scaled = scaler.fit_transform(x_test)"
   ]
  },
  {
   "cell_type": "code",
   "execution_count": null,
   "id": "3dbd1ba1",
   "metadata": {},
   "outputs": [],
   "source": [
    "x_train_scaled"
   ]
  },
  {
   "cell_type": "code",
   "execution_count": null,
   "id": "f338425a",
   "metadata": {},
   "outputs": [],
   "source": [
    "# Hyperparameter tuning using grid search\n",
    "\n",
    "params_grid = [{'kernel':['rbf'], 'gamma':[1e-3, 1e-4],\n",
    "               'C': [1,10,100,1000]},\n",
    "              {'kernel':['linear'], 'C':[1,10,100,1000]}]"
   ]
  },
  {
   "cell_type": "code",
   "execution_count": null,
   "id": "fd4972de",
   "metadata": {
    "scrolled": true
   },
   "outputs": [],
   "source": [
    "# Train SVM model using radial kernel\n",
    "\n",
    "svm_model = GridSearchCV(svm.SVC(), params_grid, cv=5)\n",
    "svm_model.fit(x_train, y_train)"
   ]
  },
  {
   "cell_type": "code",
   "execution_count": null,
   "id": "363aed36",
   "metadata": {},
   "outputs": [],
   "source": [
    "print('Best score for training data:', svm_model.best_score_,'\\n')\n",
    "print('Best C:', svm_model.best_estimator_.C, '\\n')\n",
    "print('Best Gamma:', svm_model.best_estimator_.gamma,'\\n')\n",
    "final_model = svm_model.best_estimator_\n",
    "y_pred = final_model.predict(x_test)\n",
    "print('xTest: ', y_pred)"
   ]
  },
  {
   "cell_type": "code",
   "execution_count": null,
   "id": "a2e7487b",
   "metadata": {
    "scrolled": true
   },
   "outputs": [],
   "source": [
    "y_test = (validation_data['vocabulary'] * 2)\n",
    "y_test"
   ]
  },
  {
   "cell_type": "code",
   "execution_count": null,
   "id": "5f794649",
   "metadata": {},
   "outputs": [],
   "source": [
    "clf.predict(x_test)"
   ]
  },
  {
   "cell_type": "code",
   "execution_count": null,
   "id": "b2f73d65",
   "metadata": {},
   "outputs": [],
   "source": []
  },
  {
   "cell_type": "code",
   "execution_count": null,
   "id": "2175dbfc",
   "metadata": {},
   "outputs": [],
   "source": []
  },
  {
   "cell_type": "code",
   "execution_count": null,
   "id": "50e80165",
   "metadata": {},
   "outputs": [],
   "source": [
    "print((vectors.toarray() * 10000).astype(int))"
   ]
  },
  {
   "cell_type": "code",
   "execution_count": null,
   "id": "9b649623",
   "metadata": {
    "scrolled": false
   },
   "outputs": [],
   "source": [
    "svm_(vectors, y_train, validation_data)"
   ]
  },
  {
   "cell_type": "code",
   "execution_count": null,
   "id": "71b8da1a",
   "metadata": {},
   "outputs": [],
   "source": [
    "x_train = dataframe['vectors'][:20]\n",
    "y_train = load_data(train_data_path)['vocabulary'][:20]\n"
   ]
  },
  {
   "cell_type": "code",
   "execution_count": null,
   "id": "b6eacc9c",
   "metadata": {},
   "outputs": [],
   "source": [
    "data = load_data(train_data_path)"
   ]
  },
  {
   "cell_type": "code",
   "execution_count": null,
   "id": "01caff11",
   "metadata": {},
   "outputs": [],
   "source": [
    "clean_data = data_cleanning(data[:1000])"
   ]
  },
  {
   "cell_type": "code",
   "execution_count": null,
   "id": "48d0b785",
   "metadata": {},
   "outputs": [],
   "source": [
    "vectors, denselist, feature_names, all_keywords, vocabulary = tf_idf(clean_data['full_text'])"
   ]
  },
  {
   "cell_type": "code",
   "execution_count": null,
   "id": "ab651d73",
   "metadata": {},
   "outputs": [],
   "source": [
    "vectors.shape"
   ]
  },
  {
   "cell_type": "code",
   "execution_count": null,
   "id": "78053d17",
   "metadata": {},
   "outputs": [],
   "source": [
    "arr_vector = vectors.toarray()"
   ]
  },
  {
   "cell_type": "code",
   "execution_count": null,
   "id": "c027d23c",
   "metadata": {},
   "outputs": [],
   "source": [
    "y_train = data['vocabulary'][:1000]"
   ]
  },
  {
   "cell_type": "code",
   "execution_count": null,
   "id": "416a11ad",
   "metadata": {},
   "outputs": [],
   "source": [
    "data = data[1009:1010]"
   ]
  },
  {
   "cell_type": "code",
   "execution_count": null,
   "id": "d8bb2a1f",
   "metadata": {},
   "outputs": [],
   "source": [
    "clean_x_test = data_cleanning(data)\n",
    "clean_x_test \n",
    "vectors, denselist, feature_names, all_keywords, vocabulary = tf_idf(clean_x_test)\n",
    "clean_x_test = vectors.toarray()"
   ]
  },
  {
   "cell_type": "code",
   "execution_count": null,
   "id": "b4ebe67c",
   "metadata": {},
   "outputs": [],
   "source": [
    "clean_x_test.shape"
   ]
  },
  {
   "cell_type": "code",
   "execution_count": null,
   "id": "d8864677",
   "metadata": {},
   "outputs": [],
   "source": [
    "arr_vector.shape"
   ]
  },
  {
   "cell_type": "code",
   "execution_count": null,
   "id": "deeb69f2",
   "metadata": {},
   "outputs": [],
   "source": [
    "y_train.shape"
   ]
  },
  {
   "cell_type": "markdown",
   "id": "dacd8c60",
   "metadata": {},
   "source": [
    "### Visualize data"
   ]
  },
  {
   "cell_type": "code",
   "execution_count": null,
   "id": "f485bb5c",
   "metadata": {},
   "outputs": [],
   "source": [
    "import matplotlib.pyplot as plt "
   ]
  },
  {
   "cell_type": "code",
   "execution_count": null,
   "id": "a50afb0d",
   "metadata": {},
   "outputs": [],
   "source": [
    "plt.figure(figsize=(20,4))\n",
    "_ = plt.imshow(arr_vector[:100])"
   ]
  },
  {
   "cell_type": "code",
   "execution_count": null,
   "id": "85f83904",
   "metadata": {},
   "outputs": [],
   "source": []
  },
  {
   "cell_type": "code",
   "execution_count": null,
   "id": "1e16f1a7",
   "metadata": {},
   "outputs": [],
   "source": [
    "dummyx = [[40444, 34093093, 398434, 0, 0, 232, 2323, 0],\n",
    "          [0, 0, 0, 222, 2442, 446, 44, 0]]"
   ]
  },
  {
   "cell_type": "code",
   "execution_count": null,
   "id": "409276d4",
   "metadata": {},
   "outputs": [],
   "source": [
    "dummyy = [3, 2]"
   ]
  },
  {
   "cell_type": "code",
   "execution_count": null,
   "id": "8479f501",
   "metadata": {},
   "outputs": [],
   "source": [
    "from sklearn import model_selection, naive_bayes, svm"
   ]
  },
  {
   "cell_type": "code",
   "execution_count": null,
   "id": "c6e5bf5a",
   "metadata": {},
   "outputs": [],
   "source": [
    "from sklearn.linear_model import LogisticRegression, LinearRegression"
   ]
  },
  {
   "cell_type": "code",
   "execution_count": null,
   "id": "05f6e4ea",
   "metadata": {},
   "outputs": [],
   "source": [
    "model = svm.SVC().fit(dummyx, dummyy)\n"
   ]
  },
  {
   "cell_type": "code",
   "execution_count": null,
   "id": "4783f176",
   "metadata": {},
   "outputs": [],
   "source": [
    "model.predict(clean_x_test)"
   ]
  },
  {
   "cell_type": "code",
   "execution_count": null,
   "id": "648c89e5",
   "metadata": {},
   "outputs": [],
   "source": [
    "naive = naive_bayes.MultinomialNB()"
   ]
  },
  {
   "cell_type": "code",
   "execution_count": null,
   "id": "e532d1cd",
   "metadata": {},
   "outputs": [],
   "source": []
  },
  {
   "cell_type": "code",
   "execution_count": null,
   "id": "2ce97344",
   "metadata": {
    "scrolled": false
   },
   "outputs": [],
   "source": [
    "dataframe.to_csv('./tfidfDataInstances.csv')"
   ]
  },
  {
   "cell_type": "code",
   "execution_count": null,
   "id": "085dfec3",
   "metadata": {},
   "outputs": [],
   "source": []
  },
  {
   "cell_type": "code",
   "execution_count": null,
   "id": "00e6ab66",
   "metadata": {},
   "outputs": [],
   "source": []
  }
 ],
 "metadata": {
  "kernelspec": {
   "display_name": "Python 3 (ipykernel)",
   "language": "python",
   "name": "python3"
  },
  "language_info": {
   "codemirror_mode": {
    "name": "ipython",
    "version": 3
   },
   "file_extension": ".py",
   "mimetype": "text/x-python",
   "name": "python",
   "nbconvert_exporter": "python",
   "pygments_lexer": "ipython3",
   "version": "3.9.12"
  }
 },
 "nbformat": 4,
 "nbformat_minor": 5
}
